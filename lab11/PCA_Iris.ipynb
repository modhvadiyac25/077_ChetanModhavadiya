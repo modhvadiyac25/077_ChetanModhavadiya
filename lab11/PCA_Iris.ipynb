{
 "cells": [
  {
   "cell_type": "code",
   "execution_count": 14,
   "source": [
    "%matplotlib inline\r\n",
    "import pandas as pd\r\n",
    "from sklearn import datasets\r\n",
    "from sklearn.decomposition import PCA\r\n",
    "from sklearn import svm,decomposition\r\n",
    "\r\n",
    "iris = datasets.load_iris()\r\n",
    "iris.target_names"
   ],
   "outputs": [
    {
     "output_type": "execute_result",
     "data": {
      "text/plain": [
       "array(['setosa', 'versicolor', 'virginica'], dtype='<U10')"
      ]
     },
     "metadata": {},
     "execution_count": 14
    }
   ],
   "metadata": {}
  },
  {
   "cell_type": "code",
   "execution_count": 15,
   "source": [
    "from sklearn.model_selection import train_test_split\r\n",
    "X_train, X_test, y_train, y_test = train_test_split(iris.data,iris.target, random_state=77)\r\n",
    "\r\n",
    "print(X_train.shape, X_test.shape)"
   ],
   "outputs": [
    {
     "output_type": "stream",
     "name": "stdout",
     "text": [
      "(112, 4) (38, 4)\n"
     ]
    }
   ],
   "metadata": {}
  },
  {
   "cell_type": "code",
   "execution_count": 16,
   "source": [
    "\r\n",
    "pca = decomposition.PCA(n_components=3, whiten=True, random_state=77)\r\n",
    "pca.fit(X_train)"
   ],
   "outputs": [
    {
     "output_type": "execute_result",
     "data": {
      "text/plain": [
       "PCA(n_components=3, random_state=77, whiten=True)"
      ]
     },
     "metadata": {},
     "execution_count": 16
    }
   ],
   "metadata": {}
  },
  {
   "cell_type": "code",
   "execution_count": 17,
   "source": [
    "\r\n",
    "X_train_pca = pca.transform(X_train)\r\n",
    "X_test_pca = pca.transform(X_test)\r\n",
    "print(X_train_pca.shape)\r\n",
    "\r\n",
    "clf = svm.SVC(C=3., gamma=0.001, random_state=77)\r\n",
    "clf.fit(X_train_pca, y_train)"
   ],
   "outputs": [
    {
     "output_type": "stream",
     "name": "stdout",
     "text": [
      "(112, 3)\n"
     ]
    },
    {
     "output_type": "execute_result",
     "data": {
      "text/plain": [
       "SVC(C=3.0, gamma=0.001, random_state=77)"
      ]
     },
     "metadata": {},
     "execution_count": 17
    }
   ],
   "metadata": {}
  },
  {
   "cell_type": "code",
   "execution_count": 18,
   "source": [
    "from sklearn import metrics\r\n",
    "y_pred = clf.predict(X_test_pca)"
   ],
   "outputs": [],
   "metadata": {}
  },
  {
   "cell_type": "code",
   "execution_count": 19,
   "source": [
    "\r\n",
    "from sklearn.pipeline import Pipeline\r\n",
    "clf = Pipeline([('pca', decomposition.PCA(n_components=3, whiten=True)), ('svm', svm.LinearSVC(C=3.0))])\r\n",
    "\r\n",
    "clf.fit(X_train, y_train)\r\n",
    "\r\n",
    "y_pred = clf.predict(X_test)\r\n",
    "print(metrics.confusion_matrix(y_pred, y_test))"
   ],
   "outputs": [
    {
     "output_type": "stream",
     "name": "stdout",
     "text": [
      "[[ 9  0  0]\n",
      " [ 1 10  3]\n",
      " [ 0  1 14]]\n"
     ]
    }
   ],
   "metadata": {}
  }
 ],
 "metadata": {
  "orig_nbformat": 4,
  "language_info": {
   "name": "python",
   "version": "3.9.6",
   "mimetype": "text/x-python",
   "codemirror_mode": {
    "name": "ipython",
    "version": 3
   },
   "pygments_lexer": "ipython3",
   "nbconvert_exporter": "python",
   "file_extension": ".py"
  },
  "kernelspec": {
   "name": "python3",
   "display_name": "Python 3.9.6 64-bit"
  },
  "interpreter": {
   "hash": "5f4b9d12ed728b25f05c8cb5ceec3f871e1ec72ac6123663f18e16fe885afa29"
  }
 },
 "nbformat": 4,
 "nbformat_minor": 2
}