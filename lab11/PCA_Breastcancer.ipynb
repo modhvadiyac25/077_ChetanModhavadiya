{
 "cells": [
  {
   "cell_type": "code",
   "execution_count": 1,
   "source": [
    "%matplotlib inline\r\n",
    "import pandas as pd\r\n",
    "from sklearn import datasets\r\n",
    "from sklearn.decomposition import PCA\r\n",
    "from sklearn import svm,decomposition\r\n",
    "\r\n",
    "dataset = datasets.load_breast_cancer()\r\n",
    "dataset.target_names"
   ],
   "outputs": [
    {
     "output_type": "execute_result",
     "data": {
      "text/plain": [
       "array(['malignant', 'benign'], dtype='<U9')"
      ]
     },
     "metadata": {},
     "execution_count": 1
    }
   ],
   "metadata": {}
  },
  {
   "cell_type": "code",
   "execution_count": 3,
   "source": [
    "from sklearn.model_selection import train_test_split\r\n",
    "x_train,x_test,y_train,y_test = train_test_split(dataset.data,dataset.target,random_state=77)\r\n",
    "\r\n",
    "print(\"X_train : \",x_train.shape,\"\\nX_test : \",x_test.shape)"
   ],
   "outputs": [
    {
     "output_type": "stream",
     "name": "stdout",
     "text": [
      "X_train :  (426, 30) \n",
      "X_test :  (143, 30)\n"
     ]
    }
   ],
   "metadata": {}
  },
  {
   "cell_type": "code",
   "execution_count": 4,
   "source": [
    "pca = decomposition.PCA(n_components=20,random_state=77)\r\n",
    "pca.fit(x_train)"
   ],
   "outputs": [
    {
     "output_type": "execute_result",
     "data": {
      "text/plain": [
       "PCA(n_components=20, random_state=77)"
      ]
     },
     "metadata": {},
     "execution_count": 4
    }
   ],
   "metadata": {}
  },
  {
   "cell_type": "code",
   "execution_count": 5,
   "source": [
    "xTrainPca = pca.transform(x_train)\r\n",
    "xTestPca =pca.transform(x_test)\r\n",
    "\r\n",
    "print(xTrainPca.shape)\r\n",
    "\r\n",
    "clf = svm.SVC(C=2.,gamma=0.001,random_state =77)\r\n",
    "clf.fit(xTrainPca,y_train)"
   ],
   "outputs": [
    {
     "output_type": "stream",
     "name": "stdout",
     "text": [
      "(426, 20)\n"
     ]
    },
    {
     "output_type": "execute_result",
     "data": {
      "text/plain": [
       "SVC(C=2.0, gamma=0.001, random_state=77)"
      ]
     },
     "metadata": {},
     "execution_count": 5
    }
   ],
   "metadata": {}
  },
  {
   "cell_type": "code",
   "execution_count": 6,
   "source": [
    "from sklearn import metrics\r\n",
    "y_prediction = clf.predict(xTestPca)\r\n",
    "\r\n",
    "print(metrics.classification_report(y_test,y_prediction))"
   ],
   "outputs": [
    {
     "output_type": "stream",
     "name": "stdout",
     "text": [
      "              precision    recall  f1-score   support\n",
      "\n",
      "           0       0.88      0.94      0.91        54\n",
      "           1       0.96      0.92      0.94        89\n",
      "\n",
      "    accuracy                           0.93       143\n",
      "   macro avg       0.92      0.93      0.93       143\n",
      "weighted avg       0.93      0.93      0.93       143\n",
      "\n"
     ]
    }
   ],
   "metadata": {}
  },
  {
   "cell_type": "code",
   "execution_count": 9,
   "source": [
    "from sklearn.pipeline import Pipeline\r\n",
    "clf = Pipeline([('pca', decomposition.PCA(n_components=2, whiten=True)), ('svm', svm.LinearSVC(C=2.0))])\r\n",
    "\r\n",
    "clf.fit(x_train,y_train)\r\n",
    "\r\n",
    "y_prediction = clf.predict(x_test)\r\n",
    "print(metrics.confusion_matrix(y_prediction,y_test))"
   ],
   "outputs": [
    {
     "output_type": "stream",
     "name": "stdout",
     "text": [
      "[[49  2]\n",
      " [ 5 87]]\n"
     ]
    }
   ],
   "metadata": {}
  }
 ],
 "metadata": {
  "orig_nbformat": 4,
  "language_info": {
   "name": "python",
   "version": "3.9.6",
   "mimetype": "text/x-python",
   "codemirror_mode": {
    "name": "ipython",
    "version": 3
   },
   "pygments_lexer": "ipython3",
   "nbconvert_exporter": "python",
   "file_extension": ".py"
  },
  "kernelspec": {
   "name": "python3",
   "display_name": "Python 3.9.6 64-bit"
  },
  "interpreter": {
   "hash": "5f4b9d12ed728b25f05c8cb5ceec3f871e1ec72ac6123663f18e16fe885afa29"
  }
 },
 "nbformat": 4,
 "nbformat_minor": 2
}