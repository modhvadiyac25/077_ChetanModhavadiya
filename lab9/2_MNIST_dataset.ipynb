{
  "nbformat": 4,
  "nbformat_minor": 0,
  "metadata": {
    "colab": {
      "name": "2_MNIST_dataset.ipynb",
      "provenance": [],
      "collapsed_sections": []
    },
    "kernelspec": {
      "name": "python3",
      "display_name": "Python 3"
    },
    "language_info": {
      "name": "python"
    }
  },
  "cells": [
    {
      "cell_type": "markdown",
      "metadata": {
        "id": "RYda6KdYCcKG"
      },
      "source": [
        "**Assignment:**\n",
        "\n",
        "Try SVM classifier on MNIST dataset, compare the preformance of linear, polynomial and RBF kernels."
      ]
    },
    {
      "cell_type": "code",
      "metadata": {
        "id": "vzZgsL7eChPU"
      },
      "source": [
        "import numpy as np\n",
        "import sys,os\n",
        "import matplotlib.pyplot as plt\n",
        "from sklearn import svm,metrics\n",
        "from sklearn.model_selection import train_test_split\n",
        "from sklearn.datasets import load_digits"
      ],
      "execution_count": 2,
      "outputs": []
    },
    {
      "cell_type": "code",
      "metadata": {
        "id": "0avECi3rDQxL"
      },
      "source": [
        "digits = load_digits()"
      ],
      "execution_count": 3,
      "outputs": []
    },
    {
      "cell_type": "code",
      "metadata": {
        "colab": {
          "base_uri": "https://localhost:8080/"
        },
        "id": "rZxYTVaHDazT",
        "outputId": "6f05a710-2aa2-4b9b-bf2d-813fef0d51e0"
      },
      "source": [
        "digits.data.shape\n"
      ],
      "execution_count": 7,
      "outputs": [
        {
          "output_type": "execute_result",
          "data": {
            "text/plain": [
              "(1797, 64)"
            ]
          },
          "metadata": {},
          "execution_count": 7
        }
      ]
    },
    {
      "cell_type": "code",
      "metadata": {
        "colab": {
          "base_uri": "https://localhost:8080/"
        },
        "id": "DhhUZFkXDhrT",
        "outputId": "73a7cc91-33c9-40af-c41b-e380e2bfc86e"
      },
      "source": [
        "print(digits.target)"
      ],
      "execution_count": 9,
      "outputs": [
        {
          "output_type": "stream",
          "name": "stdout",
          "text": [
            "[0 1 2 ... 8 9 8]\n"
          ]
        }
      ]
    },
    {
      "cell_type": "code",
      "metadata": {
        "id": "sE20PggfD3T0"
      },
      "source": [
        "x_train,x_test,y_train,y_test = train_test_split(digits.data,digits.target,test_size = 0.2,random_state = 77 ,train_size=0.3)"
      ],
      "execution_count": 18,
      "outputs": []
    },
    {
      "cell_type": "code",
      "metadata": {
        "id": "d3NkKupIEds_"
      },
      "source": [
        "#linear svm classifier\n",
        "linear_svm_classifier = svm.SVC(kernel='linear')"
      ],
      "execution_count": 11,
      "outputs": []
    },
    {
      "cell_type": "code",
      "metadata": {
        "colab": {
          "base_uri": "https://localhost:8080/"
        },
        "id": "RxWER7nUEvXp",
        "outputId": "a7c33cbb-e9c3-4338-e358-c2935c3f7881"
      },
      "source": [
        "linear_svm_classifier.fit(x_train,y_train)"
      ],
      "execution_count": 13,
      "outputs": [
        {
          "output_type": "execute_result",
          "data": {
            "text/plain": [
              "SVC(C=1.0, break_ties=False, cache_size=200, class_weight=None, coef0=0.0,\n",
              "    decision_function_shape='ovr', degree=3, gamma='scale', kernel='linear',\n",
              "    max_iter=-1, probability=False, random_state=None, shrinking=True,\n",
              "    tol=0.001, verbose=False)"
            ]
          },
          "metadata": {},
          "execution_count": 13
        }
      ]
    },
    {
      "cell_type": "code",
      "metadata": {
        "colab": {
          "base_uri": "https://localhost:8080/"
        },
        "id": "dWR5TQtcE8mn",
        "outputId": "086b1974-c056-4573-a400-855d6676a569"
      },
      "source": [
        "linear_y_prediction = linear_svm_classifier.predict(x_test)\n",
        "print(\"Accuracy : \",metrics.accuracy_score(y_test,linear_y_prediction))"
      ],
      "execution_count": 19,
      "outputs": [
        {
          "output_type": "stream",
          "name": "stdout",
          "text": [
            "Accuracy :  0.9583333333333334\n"
          ]
        }
      ]
    },
    {
      "cell_type": "code",
      "metadata": {
        "colab": {
          "base_uri": "https://localhost:8080/"
        },
        "id": "IWyJKbldFq0Q",
        "outputId": "4a63fedd-7d1b-4f92-9562-2772768bffe6"
      },
      "source": [
        "#polynomial svm classifier\n",
        "psc = svm.SVC(kernel='poly')\n",
        "psc.fit(x_train,y_train)"
      ],
      "execution_count": 20,
      "outputs": [
        {
          "output_type": "execute_result",
          "data": {
            "text/plain": [
              "SVC(C=1.0, break_ties=False, cache_size=200, class_weight=None, coef0=0.0,\n",
              "    decision_function_shape='ovr', degree=3, gamma='scale', kernel='poly',\n",
              "    max_iter=-1, probability=False, random_state=None, shrinking=True,\n",
              "    tol=0.001, verbose=False)"
            ]
          },
          "metadata": {},
          "execution_count": 20
        }
      ]
    },
    {
      "cell_type": "code",
      "metadata": {
        "colab": {
          "base_uri": "https://localhost:8080/"
        },
        "id": "GX_BFoNnGxAQ",
        "outputId": "7fdfbd63-c7a6-4fba-d6cb-1a24486f681c"
      },
      "source": [
        "predict_y_poly = psc.predict(x_test)\n",
        "print(\"Accuracy : \",metrics.accuracy_score(y_test,predict_y_poly))"
      ],
      "execution_count": 22,
      "outputs": [
        {
          "output_type": "stream",
          "name": "stdout",
          "text": [
            "Accuracy :  0.9861111111111112\n"
          ]
        }
      ]
    },
    {
      "cell_type": "code",
      "metadata": {
        "colab": {
          "base_uri": "https://localhost:8080/"
        },
        "id": "Omq2QTb4HTU2",
        "outputId": "84b7c21f-c1ab-466c-d3f9-2c1cdd9d2fa4"
      },
      "source": [
        "#RBF SVM Classifier\n",
        "rbf = svm.SVC(kernel='rbf')\n",
        "rbf.fit(x_train,y_train)"
      ],
      "execution_count": 23,
      "outputs": [
        {
          "output_type": "execute_result",
          "data": {
            "text/plain": [
              "SVC(C=1.0, break_ties=False, cache_size=200, class_weight=None, coef0=0.0,\n",
              "    decision_function_shape='ovr', degree=3, gamma='scale', kernel='rbf',\n",
              "    max_iter=-1, probability=False, random_state=None, shrinking=True,\n",
              "    tol=0.001, verbose=False)"
            ]
          },
          "metadata": {},
          "execution_count": 23
        }
      ]
    },
    {
      "cell_type": "code",
      "metadata": {
        "colab": {
          "base_uri": "https://localhost:8080/"
        },
        "id": "d1_Q3s7oINvn",
        "outputId": "fe3b4a51-34d4-441c-bf05-8e12d087e062"
      },
      "source": [
        "prediction_y_rbf = rbf.predict(x_test)\n",
        "print(\"Accuracy : \",metrics.accuracy_score(y_test,prediction_y_rbf))"
      ],
      "execution_count": 25,
      "outputs": [
        {
          "output_type": "stream",
          "name": "stdout",
          "text": [
            "Accuracy :  0.9666666666666667\n"
          ]
        }
      ]
    }
  ]
}