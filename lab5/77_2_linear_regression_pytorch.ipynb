{
  "nbformat": 4,
  "nbformat_minor": 0,
  "metadata": {
    "kernelspec": {
      "display_name": "Python 3",
      "language": "python",
      "name": "python3"
    },
    "language_info": {
      "name": "python",
      "version": "3.6.6",
      "mimetype": "text/x-python",
      "codemirror_mode": {
        "name": "ipython",
        "version": 3
      },
      "pygments_lexer": "ipython3",
      "nbconvert_exporter": "python",
      "file_extension": ".py"
    },
    "colab": {
      "name": "77_2-linear-regression-pytorch.ipynb",
      "provenance": [],
      "collapsed_sections": []
    }
  },
  "cells": [
    {
      "cell_type": "code",
      "metadata": {
        "_cell_guid": "79c7e3d0-c299-4dcb-8224-4455121ee9b0",
        "_uuid": "d629ff2d2480ee46fbb7e2d37f6b5fab8052498a",
        "trusted": true,
        "id": "v0BtAX1--7l_"
      },
      "source": [
        "# Import Numpy & PyTorch\n",
        "import numpy as np\n",
        "import torch"
      ],
      "execution_count": 59,
      "outputs": []
    },
    {
      "cell_type": "markdown",
      "metadata": {
        "_uuid": "ecc6e79cdfb6a8ca882895ccc895b61b960b0a04",
        "id": "i1HSrBDb-7t9"
      },
      "source": [
        "## Linear Regression Model using PyTorch built-ins\n",
        "\n",
        "Let's re-implement the same model using some built-in functions and classes from PyTorch.\n",
        "\n",
        "And now using two different targets: Apples and Oranges"
      ]
    },
    {
      "cell_type": "code",
      "metadata": {
        "trusted": true,
        "_uuid": "ce66cf0d09a3f38bf2f00ea40418c56d98f1f814",
        "id": "iXiEK54j-7t-"
      },
      "source": [
        "# Imports\n",
        "import torch.nn as nn"
      ],
      "execution_count": 60,
      "outputs": []
    },
    {
      "cell_type": "code",
      "metadata": {
        "trusted": true,
        "_uuid": "74bb18bd01ac809079eeb8d05695206e8ba02069",
        "id": "wCsxgTWO-7uM"
      },
      "source": [
        "# Input (temp, rainfall, humidity)\n",
        "inputs = np.array([[73, 67, 43], [91, 88, 64], [87, 134, 58], [102, 43, 37], [69, 96, 70], [73, 67, 43], [91, 88, 64], [87, 134, 58], [102, 43, 37], [69, 96, 70], [73, 67, 43], [91, 88, 64], [87, 134, 58], [102, 43, 37], [69, 96, 70]], dtype='float32')\n",
        "# Targets (apples, oranges)\n",
        "targets = np.array([[56, 70], [81, 101], [119, 133], [22, 37], [103, 119], \n",
        "                    [56, 70], [81, 101], [119, 133], [22, 37], [103, 119], \n",
        "                    [56, 70], [81, 101], [119, 133], [22, 37], [103, 119]], dtype='float32')"
      ],
      "execution_count": 61,
      "outputs": []
    },
    {
      "cell_type": "code",
      "metadata": {
        "trusted": true,
        "_uuid": "d94b355f55250e9c7dcff668920f02d7c5c04925",
        "id": "nJRlm4-N-7uY"
      },
      "source": [
        "inputs = torch.from_numpy(inputs)\n",
        "targets = torch.from_numpy(targets)"
      ],
      "execution_count": 62,
      "outputs": []
    },
    {
      "cell_type": "markdown",
      "metadata": {
        "_uuid": "a0665466eb5401f40a816b323a34450b2c052c41",
        "id": "O6JT5Ng6-7uj"
      },
      "source": [
        "### Dataset and DataLoader\n",
        "\n",
        "We'll create a `TensorDataset`, which allows access to rows from `inputs` and `targets` as tuples. We'll also create a DataLoader, to split the data into batches while training. It also provides other utilities like shuffling and sampling."
      ]
    },
    {
      "cell_type": "code",
      "metadata": {
        "trusted": true,
        "_uuid": "206f5fd0473386476b23477bf38d2c327b6376c9",
        "id": "iGYdbuWc-7ul"
      },
      "source": [
        "# Import tensor dataset & data loader\n",
        "from torch.utils.data import TensorDataset, DataLoader"
      ],
      "execution_count": 63,
      "outputs": []
    },
    {
      "cell_type": "code",
      "metadata": {
        "trusted": true,
        "_uuid": "c47a4f2f86fda3918094e01cf7ab0698bbb5acc7",
        "id": "LY_cq6Bf-7ux",
        "colab": {
          "base_uri": "https://localhost:8080/"
        },
        "outputId": "0d4890af-3a97-4039-9ea4-d57d3322c2d7"
      },
      "source": [
        "# Define dataset\n",
        "from torch.utils.data import TensorDataset, DataLoader\n",
        "dataset = TensorDataset(inputs, targets)\n",
        "dataset[0:4]"
      ],
      "execution_count": 64,
      "outputs": [
        {
          "output_type": "execute_result",
          "data": {
            "text/plain": [
              "(tensor([[ 73.,  67.,  43.],\n",
              "         [ 91.,  88.,  64.],\n",
              "         [ 87., 134.,  58.],\n",
              "         [102.,  43.,  37.]]), tensor([[ 56.,  70.],\n",
              "         [ 81., 101.],\n",
              "         [119., 133.],\n",
              "         [ 22.,  37.]]))"
            ]
          },
          "metadata": {},
          "execution_count": 64
        }
      ]
    },
    {
      "cell_type": "code",
      "metadata": {
        "trusted": true,
        "_uuid": "0a2f69126319d738b82ae67d5d404ecd6161bfac",
        "id": "I-_dMpco-7u-",
        "colab": {
          "base_uri": "https://localhost:8080/"
        },
        "outputId": "e98dfb78-73c5-4060-cc05-c5a3bf1508c5"
      },
      "source": [
        "# Define data loader\n",
        "batch_size = 6\n",
        "dl = DataLoader(dataset, batch_size, shuffle=True)\n",
        "next(iter(dl))"
      ],
      "execution_count": 65,
      "outputs": [
        {
          "output_type": "execute_result",
          "data": {
            "text/plain": [
              "[tensor([[ 87., 134.,  58.],\n",
              "         [ 91.,  88.,  64.],\n",
              "         [ 73.,  67.,  43.],\n",
              "         [ 69.,  96.,  70.],\n",
              "         [ 87., 134.,  58.],\n",
              "         [ 69.,  96.,  70.]]), tensor([[119., 133.],\n",
              "         [ 81., 101.],\n",
              "         [ 56.,  70.],\n",
              "         [103., 119.],\n",
              "         [119., 133.],\n",
              "         [103., 119.]])]"
            ]
          },
          "metadata": {},
          "execution_count": 65
        }
      ]
    },
    {
      "cell_type": "markdown",
      "metadata": {
        "_uuid": "276a262e1b9e3a048bcd32989013f9c501c59037",
        "id": "Dq8gUbVx-7vK"
      },
      "source": [
        "### nn.Linear\n",
        "Instead of initializing the weights & biases manually, we can define the model using `nn.Linear`."
      ]
    },
    {
      "cell_type": "code",
      "metadata": {
        "trusted": true,
        "_uuid": "59da3506559a0640d80d18f77b02726a1757be2f",
        "id": "sKa873ZD-7vN",
        "colab": {
          "base_uri": "https://localhost:8080/"
        },
        "outputId": "15c6542b-2916-475a-e9b7-c0f45e86e1e8"
      },
      "source": [
        "# Define model\n",
        "model = nn.Linear(3, 2)\n",
        "print(model.weight, end=\"\\n---------\\n\")\n",
        "print(model.bias)"
      ],
      "execution_count": 66,
      "outputs": [
        {
          "output_type": "stream",
          "name": "stdout",
          "text": [
            "Parameter containing:\n",
            "tensor([[ 0.1074,  0.3729,  0.2638],\n",
            "        [-0.2969,  0.3819, -0.4918]], requires_grad=True)\n",
            "---------\n",
            "Parameter containing:\n",
            "tensor([-0.3037,  0.1127], requires_grad=True)\n"
          ]
        }
      ]
    },
    {
      "cell_type": "markdown",
      "metadata": {
        "_uuid": "b3a4a8c499a4680f2533329712de034671dd1cdd",
        "id": "rku14lz3-7vX"
      },
      "source": [
        "### Optimizer\n",
        "Instead of manually manipulating the weights & biases using gradients, we can use the optimizer `optim.SGD`."
      ]
    },
    {
      "cell_type": "code",
      "metadata": {
        "trusted": true,
        "_uuid": "1848398bd1ced8c25a7bb55612cf32a774500280",
        "id": "Yd4H-T8g-7va"
      },
      "source": [
        "# Define optimizer\n",
        "opt = torch.optim.SGD(model.parameters(), lr=1e-5)"
      ],
      "execution_count": 67,
      "outputs": []
    },
    {
      "cell_type": "markdown",
      "metadata": {
        "_uuid": "28cbe62be55010bd11b31d819cff38da5a772b18",
        "id": "V2ktEA-C-7vl"
      },
      "source": [
        "### Loss Function\n",
        "Instead of defining a loss function manually, we can use the built-in loss function `mse_loss`."
      ]
    },
    {
      "cell_type": "code",
      "metadata": {
        "trusted": true,
        "_uuid": "69d7f4e8e27ccd077f711da27f8bede8aa711893",
        "id": "TF2xmzgO-7vo"
      },
      "source": [
        "# Import nn.functional\n",
        "import torch.nn.functional as F "
      ],
      "execution_count": 68,
      "outputs": []
    },
    {
      "cell_type": "code",
      "metadata": {
        "trusted": true,
        "_uuid": "a02ff888ed4be720fd9ca376022d8fdcf2559683",
        "id": "hSgxvr8N-7vz"
      },
      "source": [
        "# Define loss function\n",
        "loss_fn = F.mse_loss"
      ],
      "execution_count": 69,
      "outputs": []
    },
    {
      "cell_type": "code",
      "metadata": {
        "trusted": true,
        "_uuid": "a540adf76725ea9968025f6c029fdd251bdada6c",
        "id": "9vyVL5io-7wA",
        "colab": {
          "base_uri": "https://localhost:8080/"
        },
        "outputId": "ed9c7154-bc18-4532-db8c-20b6d836e40f"
      },
      "source": [
        "loss = loss_fn(model(inputs) , targets)\n",
        "print(loss)"
      ],
      "execution_count": 70,
      "outputs": [
        {
          "output_type": "stream",
          "name": "stdout",
          "text": [
            "tensor(7004.7100, grad_fn=<MseLossBackward>)\n"
          ]
        }
      ]
    },
    {
      "cell_type": "markdown",
      "metadata": {
        "_uuid": "e833614a69ff18c554a3d89f643ae2f11e0260f6",
        "id": "9jbPdkiO-7wM"
      },
      "source": [
        "### Train the model\n",
        "\n",
        "We are ready to train the model now. We can define a utility function `fit` which trains the model for a given number of epochs."
      ]
    },
    {
      "cell_type": "code",
      "metadata": {
        "trusted": true,
        "_uuid": "128bc7260221f5338edf8b503c75f0c7d1cce7e8",
        "id": "zDnWui7g-7wP"
      },
      "source": [
        "# Define a utility function to train the model\n",
        "def fit(num_epochs, model, loss_fn, opt):\n",
        "    for epoch in range(num_epochs):\n",
        "        for xb,yb in dl:\n",
        "            # Generate predictions\n",
        "            pred = model(xb)\n",
        "            loss = loss_fn(pred, yb)\n",
        "            # Perform gradient descent\n",
        "            loss.backward()\n",
        "            opt.step()\n",
        "            opt.zero_grad()\n",
        "    print('Training loss: ', loss_fn(model(inputs), targets))"
      ],
      "execution_count": 71,
      "outputs": []
    },
    {
      "cell_type": "code",
      "metadata": {
        "trusted": true,
        "_uuid": "ae8ca4686cf6a68f6c9ca93bf3d227abe96c2201",
        "id": "Gd8tiT_q-7wa",
        "colab": {
          "base_uri": "https://localhost:8080/"
        },
        "outputId": "1c34dc2c-399b-4597-c02c-c63a8f2c5160"
      },
      "source": [
        "# Train the model for 100 epochs\n",
        "fit(100 , model , loss_fn, opt)"
      ],
      "execution_count": 72,
      "outputs": [
        {
          "output_type": "stream",
          "name": "stdout",
          "text": [
            "Training loss:  tensor(42.2733, grad_fn=<MseLossBackward>)\n"
          ]
        }
      ]
    },
    {
      "cell_type": "code",
      "metadata": {
        "trusted": true,
        "_uuid": "32588a47d0478772a1f08fa55874a322630bd0b6",
        "id": "c3Bf-Emn-7wj",
        "colab": {
          "base_uri": "https://localhost:8080/"
        },
        "outputId": "513b600e-4c29-48e2-8762-966674f0c678"
      },
      "source": [
        "# Generate predictions\n",
        "preds = model(inputs)\n",
        "print('\\n', preds)\n",
        "#preds = model(?)\n",
        "#preds"
      ],
      "execution_count": 73,
      "outputs": [
        {
          "output_type": "stream",
          "name": "stdout",
          "text": [
            "\n",
            " tensor([[ 58.7020,  72.2617],\n",
            "        [ 81.9182,  96.2712],\n",
            "        [120.1566, 144.7002],\n",
            "        [ 27.5752,  43.8031],\n",
            "        [ 97.3310, 107.1942],\n",
            "        [ 58.7020,  72.2617],\n",
            "        [ 81.9182,  96.2712],\n",
            "        [120.1566, 144.7002],\n",
            "        [ 27.5752,  43.8031],\n",
            "        [ 97.3310, 107.1942],\n",
            "        [ 58.7020,  72.2617],\n",
            "        [ 81.9182,  96.2712],\n",
            "        [120.1566, 144.7002],\n",
            "        [ 27.5752,  43.8031],\n",
            "        [ 97.3310, 107.1942]], grad_fn=<AddmmBackward>)\n"
          ]
        }
      ]
    },
    {
      "cell_type": "code",
      "metadata": {
        "trusted": true,
        "_uuid": "12d757c0f37c2e3af65cf9d4b59878cc10c65acf",
        "id": "_gDGmiHl-7wr",
        "colab": {
          "base_uri": "https://localhost:8080/"
        },
        "outputId": "0635a07a-b464-4d8c-94e2-c841b4305554"
      },
      "source": [
        "# Compare with targets\n",
        "print(targets)\n",
        "#targets"
      ],
      "execution_count": 74,
      "outputs": [
        {
          "output_type": "stream",
          "name": "stdout",
          "text": [
            "tensor([[ 56.,  70.],\n",
            "        [ 81., 101.],\n",
            "        [119., 133.],\n",
            "        [ 22.,  37.],\n",
            "        [103., 119.],\n",
            "        [ 56.,  70.],\n",
            "        [ 81., 101.],\n",
            "        [119., 133.],\n",
            "        [ 22.,  37.],\n",
            "        [103., 119.],\n",
            "        [ 56.,  70.],\n",
            "        [ 81., 101.],\n",
            "        [119., 133.],\n",
            "        [ 22.,  37.],\n",
            "        [103., 119.]])\n"
          ]
        }
      ]
    },
    {
      "cell_type": "markdown",
      "metadata": {
        "_uuid": "2448d9832722f4f2813f8bd80b91daefd901dc2e",
        "id": "b9nvUidI-7xD"
      },
      "source": [
        "Now we can define the model, optimizer and loss function exactly as before."
      ]
    },
    {
      "cell_type": "code",
      "metadata": {
        "trusted": true,
        "_uuid": "e94de6868c76803a998c1c1934ed229c826f3b8c",
        "id": "d3esiKz3-7xT",
        "colab": {
          "base_uri": "https://localhost:8080/"
        },
        "outputId": "2af1fd3d-7f9e-4155-aaba-583b4fcb0637"
      },
      "source": [
        "fit(100 , model , loss_fn, opt)"
      ],
      "execution_count": 75,
      "outputs": [
        {
          "output_type": "stream",
          "name": "stdout",
          "text": [
            "Training loss:  tensor(21.1775, grad_fn=<MseLossBackward>)\n"
          ]
        }
      ]
    },
    {
      "cell_type": "code",
      "metadata": {
        "id": "XNUCxUleUb_9"
      },
      "source": [
        "# Input (temp, rainfall, humidity)\n",
        "inputs = np.array([[73, 67, 43], [91, 88, 64], [87, 134, 58], [102, 43, 37], [69, 96, 70], [73, 67, 43], [91, 88, 64], [87, 134, 58], [102, 43, 37], [69, 96, 70], [73, 67, 43], [91, 88, 64], [87, 134, 58], [102, 43, 37], [69, 96, 70]], dtype='float32')\n",
        "# Targets (apples, oranges)\n",
        "targets = np.array([[56, 70], [81, 101], [119, 133], [22, 37], [103, 119], \n",
        "                    [56, 70], [81, 101], [119, 133], [22, 37], [103, 119], \n",
        "                    [56, 70], [81, 101], [119, 133], [22, 37], [103, 119]], dtype='float32')\n",
        "\n",
        "x_shape = inputs.shape"
      ],
      "execution_count": 76,
      "outputs": []
    },
    {
      "cell_type": "code",
      "metadata": {
        "colab": {
          "base_uri": "https://localhost:8080/"
        },
        "id": "8cxmGE1hUf9u",
        "outputId": "f185017d-3aa8-4c02-a39e-15fe751afe82"
      },
      "source": [
        "# weights and biases\n",
        "weights = np.random.rand(2, 3)\n",
        "biases = np.random.rand(15, 2)\n",
        "print(\"Weights  :  \", weights, sep='\\n')\n",
        "print(\"Biases  :  \", biases, sep=\"\\n\")"
      ],
      "execution_count": 77,
      "outputs": [
        {
          "output_type": "stream",
          "name": "stdout",
          "text": [
            "Weights  :  \n",
            "[[0.98936605 0.83483543 0.22719947]\n",
            " [0.01721337 0.3809413  0.40602036]]\n",
            "Biases  :  \n",
            "[[0.19362099 0.83139655]\n",
            " [0.38277295 0.62878917]\n",
            " [0.01459183 0.30568334]\n",
            " [0.58025494 0.91827318]\n",
            " [0.79490981 0.51945183]\n",
            " [0.2026691  0.29850829]\n",
            " [0.53139414 0.78533795]\n",
            " [0.16150794 0.39880053]\n",
            " [0.64915393 0.26922375]\n",
            " [0.5781346  0.5812849 ]\n",
            " [0.39213989 0.55009083]\n",
            " [0.72353984 0.3492637 ]\n",
            " [0.27355861 0.96837253]\n",
            " [0.46708099 0.97111864]\n",
            " [0.22310623 0.12221717]]\n"
          ]
        }
      ]
    },
    {
      "cell_type": "code",
      "metadata": {
        "id": "UsUyKClVUiKl"
      },
      "source": [
        "# Define the model\n",
        "def model(x):\n",
        "    return x @ np.transpose(weights) + biases"
      ],
      "execution_count": 78,
      "outputs": []
    },
    {
      "cell_type": "code",
      "metadata": {
        "colab": {
          "base_uri": "https://localhost:8080/"
        },
        "id": "RTy3LEEFUkV0",
        "outputId": "9aef5088-4f2f-4f9b-bc8b-741d76edc3c7"
      },
      "source": [
        "# Generate predictions\n",
        "pred = model(inputs)\n",
        "\n",
        "# Compare with targets\n",
        "print(\"Predictions : \", pred, sep=\"\\n\")\n",
        "print(\"\\nTargets : \", targets, sep=\"\\n\")"
      ],
      "execution_count": 79,
      "outputs": [
        {
          "output_type": "stream",
          "name": "stdout",
          "text": [
            "Predictions : \n",
            "[[138.12089393  45.06991516]\n",
            " [178.42136779  61.70334333]\n",
            " [211.13495537  76.39856181]\n",
            " [145.79989625  34.07726597]\n",
            " [165.10933177  66.69896452]\n",
            " [138.12994204  44.5370269 ]\n",
            " [178.56998897  61.85989211]\n",
            " [211.28187149  76.491679  ]\n",
            " [145.86879524  33.42821654]\n",
            " [164.89255656  66.76079759]\n",
            " [138.31941283  44.78860944]\n",
            " [178.76213468  61.42381786]\n",
            " [211.39392216  77.061251  ]\n",
            " [145.6867223   34.13011143]\n",
            " [164.53752819  66.30172987]]\n",
            "\n",
            "Targets : \n",
            "[[ 56.  70.]\n",
            " [ 81. 101.]\n",
            " [119. 133.]\n",
            " [ 22.  37.]\n",
            " [103. 119.]\n",
            " [ 56.  70.]\n",
            " [ 81. 101.]\n",
            " [119. 133.]\n",
            " [ 22.  37.]\n",
            " [103. 119.]\n",
            " [ 56.  70.]\n",
            " [ 81. 101.]\n",
            " [119. 133.]\n",
            " [ 22.  37.]\n",
            " [103. 119.]]\n"
          ]
        }
      ]
    },
    {
      "cell_type": "code",
      "metadata": {
        "id": "yjG-MdaQUm3g"
      },
      "source": [
        "# MSE loss\n",
        "def mse(t1, t2):\n",
        "    diff = t1 - t2\n",
        "    return np.sum(diff * diff) / len(diff)"
      ],
      "execution_count": 80,
      "outputs": []
    },
    {
      "cell_type": "code",
      "metadata": {
        "colab": {
          "base_uri": "https://localhost:8080/"
        },
        "id": "3ZJ3H09UUro8",
        "outputId": "d68c85c1-4cc6-4ff3-c6e3-34c2253bc5e7"
      },
      "source": [
        "# Compute loss\n",
        "loss = mse(pred, targets)\n",
        "print(loss)"
      ],
      "execution_count": 81,
      "outputs": [
        {
          "output_type": "stream",
          "name": "stdout",
          "text": [
            "10410.91585201959\n"
          ]
        }
      ]
    },
    {
      "cell_type": "code",
      "metadata": {
        "colab": {
          "base_uri": "https://localhost:8080/"
        },
        "id": "FKtZPyxkUt4j",
        "outputId": "27037709-056e-4cc0-a4ef-cb4d7930173b"
      },
      "source": [
        "# compute gradients\n",
        "biases_grad = (pred - targets) * 2/x_shape[0]\n",
        "weights_grad = (np.matmul(np.transpose((pred - targets)), inputs)) * 2/x_shape[0]\n",
        "\n",
        "print(\"Weights gradient  :  \",weights_grad, sep=\"\\n\")\n",
        "print(\"\\nBiases gradient  :  \",biases_grad, sep=\"\\n\")"
      ],
      "execution_count": 82,
      "outputs": [
        {
          "output_type": "stream",
          "name": "stdout",
          "text": [
            "Weights gradient  :  \n",
            "[[15920.42706595 15087.36280851  9616.22360809]\n",
            " [-5702.68660998 -7146.76049168 -4261.5749247 ]]\n",
            "\n",
            "Biases gradient  :  \n",
            "[[10.94945252 -3.32401131]\n",
            " [12.98951571 -5.23955422]\n",
            " [12.28466072 -7.54685842]\n",
            " [16.50665283 -0.38969787]\n",
            " [ 8.28124424 -6.9734714 ]\n",
            " [10.95065894 -3.39506308]\n",
            " [13.00933186 -5.21868105]\n",
            " [12.30424953 -7.5344428 ]\n",
            " [16.51583937 -0.47623779]\n",
            " [ 8.25234087 -6.96522699]\n",
            " [10.97592171 -3.36151874]\n",
            " [13.03495129 -5.27682428]\n",
            " [12.31918962 -7.45849987]\n",
            " [16.49156297 -0.38265181]\n",
            " [ 8.20500376 -7.02643602]]\n"
          ]
        }
      ]
    },
    {
      "cell_type": "code",
      "metadata": {
        "id": "ovofnRFaUwf6"
      },
      "source": [
        "# Adjust weights\n",
        "weights -= weights_grad * 1e-4\n",
        "biases -= biases_grad * 1e-4"
      ],
      "execution_count": 83,
      "outputs": []
    },
    {
      "cell_type": "code",
      "metadata": {
        "colab": {
          "base_uri": "https://localhost:8080/"
        },
        "id": "LLk6arqVUyjr",
        "outputId": "68c01a60-507b-4952-ba9b-70b2fbf8dd98"
      },
      "source": [
        "print(\"Weights  :  \", weights, sep='\\n')\n",
        "print(\"\\nBiases  :  \", biases, sep=\"\\n\")"
      ],
      "execution_count": 84,
      "outputs": [
        {
          "output_type": "stream",
          "name": "stdout",
          "text": [
            "Weights  :  \n",
            "[[-0.60267665 -0.67390085 -0.73442289]\n",
            " [ 0.58748203  1.09561735  0.83217785]]\n",
            "\n",
            "Biases  :  \n",
            "[[0.19252604 0.83172895]\n",
            " [0.381474   0.62931312]\n",
            " [0.01336336 0.30643803]\n",
            " [0.57860427 0.91831215]\n",
            " [0.79408169 0.52014917]\n",
            " [0.20157403 0.29884779]\n",
            " [0.5300932  0.78585981]\n",
            " [0.16027752 0.39955398]\n",
            " [0.64750234 0.26927137]\n",
            " [0.57730937 0.58198142]\n",
            " [0.3910423  0.55042698]\n",
            " [0.72223635 0.34979138]\n",
            " [0.27232669 0.96911838]\n",
            " [0.46543184 0.97115691]\n",
            " [0.22228573 0.12291982]]\n"
          ]
        }
      ]
    },
    {
      "cell_type": "code",
      "metadata": {
        "colab": {
          "base_uri": "https://localhost:8080/"
        },
        "id": "vQCQnTwBU4Qx",
        "outputId": "6b3a75f8-4d21-444f-c1a8-37d5f9ee9a1f"
      },
      "source": [
        "# Calculate loss\n",
        "pred = model(inputs)\n",
        "loss = mse(pred, targets)\n",
        "print(loss)"
      ],
      "execution_count": 85,
      "outputs": [
        {
          "output_type": "stream",
          "name": "stdout",
          "text": [
            "63396.16567525911\n"
          ]
        }
      ]
    },
    {
      "cell_type": "code",
      "metadata": {
        "id": "_NY8k2feVFDN"
      },
      "source": [
        "# repeating same for 200 times\n",
        "for i in range(200):\n",
        "    pred = model(inputs)\n",
        "    loss = mse(pred, targets)\n",
        "    \n",
        "    biases_grad = ((((inputs@np.transpose(weights)) + biases) - targets)) * 2/x_shape[0]\n",
        "    weights_grad = (np.matmul(np.transpose((((inputs@np.transpose(weights)) + biases) - targets)), inputs)) * 2/x_shape[0]\n",
        "\n",
        "    weights -= weights_grad * 1e-4\n",
        "    biases -= biases_grad * 1e-4"
      ],
      "execution_count": 86,
      "outputs": []
    },
    {
      "cell_type": "code",
      "metadata": {
        "colab": {
          "base_uri": "https://localhost:8080/"
        },
        "id": "dACdlIy9VINK",
        "outputId": "f2c8fb92-bef3-4079-825e-c2f3c7856c2c"
      },
      "source": [
        "# Calculate loss\n",
        "pred = model(inputs)\n",
        "loss = mse(pred, targets)\n",
        "print(loss)"
      ],
      "execution_count": 87,
      "outputs": [
        {
          "output_type": "stream",
          "name": "stdout",
          "text": [
            "3.628399338406837e+169\n"
          ]
        }
      ]
    },
    {
      "cell_type": "code",
      "metadata": {
        "colab": {
          "base_uri": "https://localhost:8080/"
        },
        "id": "jRRtfbm1VKW-",
        "outputId": "f938ca5d-ef16-425c-8128-e88ccb71fca6"
      },
      "source": [
        "# Print predictions\n",
        "print(pred)"
      ],
      "execution_count": 88,
      "outputs": [
        {
          "output_type": "stream",
          "name": "stdout",
          "text": [
            "[[-4.46912783e+84  1.88097861e+84]\n",
            " [-5.87263960e+84  2.47169244e+84]\n",
            " [-6.94011979e+84  2.92097639e+84]\n",
            " [-4.44956874e+84  1.87274653e+84]\n",
            " [-5.62974770e+84  2.36946344e+84]\n",
            " [-4.46912783e+84  1.88097861e+84]\n",
            " [-5.87263960e+84  2.47169244e+84]\n",
            " [-6.94011979e+84  2.92097639e+84]\n",
            " [-4.44956874e+84  1.87274653e+84]\n",
            " [-5.62974770e+84  2.36946344e+84]\n",
            " [-4.46912783e+84  1.88097861e+84]\n",
            " [-5.87263960e+84  2.47169244e+84]\n",
            " [-6.94011979e+84  2.92097639e+84]\n",
            " [-4.44956874e+84  1.87274653e+84]\n",
            " [-5.62974770e+84  2.36946344e+84]]\n"
          ]
        }
      ]
    },
    {
      "cell_type": "code",
      "metadata": {
        "colab": {
          "base_uri": "https://localhost:8080/"
        },
        "id": "OegvmSrqVRiy",
        "outputId": "729e94f0-a185-481a-cb87-dc92b55fbb5a"
      },
      "source": [
        "# Print targets\n",
        "print(targets)"
      ],
      "execution_count": 89,
      "outputs": [
        {
          "output_type": "stream",
          "name": "stdout",
          "text": [
            "[[ 56.  70.]\n",
            " [ 81. 101.]\n",
            " [119. 133.]\n",
            " [ 22.  37.]\n",
            " [103. 119.]\n",
            " [ 56.  70.]\n",
            " [ 81. 101.]\n",
            " [119. 133.]\n",
            " [ 22.  37.]\n",
            " [103. 119.]\n",
            " [ 56.  70.]\n",
            " [ 81. 101.]\n",
            " [119. 133.]\n",
            " [ 22.  37.]\n",
            " [103. 119.]]\n"
          ]
        }
      ]
    }
  ]
}