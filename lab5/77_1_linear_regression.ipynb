{
  "nbformat": 4,
  "nbformat_minor": 0,
  "metadata": {
    "kernelspec": {
      "display_name": "Python 3",
      "language": "python",
      "name": "python3"
    },
    "language_info": {
      "name": "python",
      "version": "3.6.6",
      "mimetype": "text/x-python",
      "codemirror_mode": {
        "name": "ipython",
        "version": 3
      },
      "pygments_lexer": "ipython3",
      "nbconvert_exporter": "python",
      "file_extension": ".py"
    },
    "colab": {
      "name": "77_1-linear-regression.ipynb",
      "provenance": []
    }
  },
  "cells": [
    {
      "cell_type": "code",
      "metadata": {
        "_cell_guid": "79c7e3d0-c299-4dcb-8224-4455121ee9b0",
        "_uuid": "d629ff2d2480ee46fbb7e2d37f6b5fab8052498a",
        "trusted": true,
        "id": "v0BtAX1--7l_"
      },
      "source": [
        "# Import Numpy & PyTorch\n",
        "import numpy as np\n",
        "import torch\n",
        "from sklearn.linear_model import LinearRegression"
      ],
      "execution_count": 37,
      "outputs": []
    },
    {
      "cell_type": "markdown",
      "metadata": {
        "_uuid": "34f006aa7eb4bbc683c39b7059021da900180908",
        "id": "tUurNfvF-7mc"
      },
      "source": [
        "A tensor is a number, vector, matrix or any n-dimensional array."
      ]
    },
    {
      "cell_type": "markdown",
      "metadata": {
        "_uuid": "0b65b6bb4d15127b1d51f09abf616cfd29fa48b4",
        "id": "DAOgSWEp-7oF"
      },
      "source": [
        "## Problem Statement"
      ]
    },
    {
      "cell_type": "markdown",
      "metadata": {
        "_uuid": "c1beecda01bc332596edd193cade30006e3f6cbf",
        "id": "-Fi1M6pd-7oJ"
      },
      "source": [
        "We'll create a model that predicts crop yeilds for apples (*target variable*) by looking at the average temperature, rainfall and humidity (*input variables or features*) in different regions. \n",
        "\n",
        "Here's the training data:\n",
        "\n",
        ">Temp | Rain | Humidity | Prediction\n",
        ">--- | --- | --- | ---\n",
        "> 73 | 67 | 43 | 56\n",
        "> 91 | 88 | 64 | 81\n",
        "> 87 | 134 | 58 | 119\n",
        "> 102 | 43 | 37 | 22\n",
        "> 69 | 96 | 70 | 103\n",
        "\n",
        "In a **linear regression** model, each target variable is estimated to be a weighted sum of the input variables, offset by some constant, known as a bias :\n",
        "\n",
        "```\n",
        "yeild_apple  = w11 * temp + w12 * rainfall + w13 * humidity + b1\n",
        "```\n",
        "\n",
        "It means that the yield of apples is a linear or planar function of the temperature, rainfall & humidity.\n",
        "\n",
        "\n",
        "\n",
        "**Our objective**: Find a suitable set of *weights* and *biases* using the training data, to make accurate predictions."
      ]
    },
    {
      "cell_type": "markdown",
      "metadata": {
        "_uuid": "c24b8195c0e9c6e8e13e169d264484f1f9b3b1ae",
        "id": "h0dmV2Fc-7oL"
      },
      "source": [
        "## Training Data\n",
        "The training data can be represented using 2 matrices (inputs and targets), each with one row per observation and one column for variable."
      ]
    },
    {
      "cell_type": "code",
      "metadata": {
        "trusted": true,
        "_uuid": "dfda99005fc6daf3a49ae1cdd427ccac0aa446b1",
        "id": "MaIf33bV-7oN"
      },
      "source": [
        "# Input (temp, rainfall, humidity)\n",
        "inputs = np.array([[73, 67, 43], \n",
        "                   [91, 88, 64], \n",
        "                   [87, 134, 58], \n",
        "                   [102, 43, 37], \n",
        "                   [69, 96, 70]], dtype='float32')"
      ],
      "execution_count": 38,
      "outputs": []
    },
    {
      "cell_type": "code",
      "metadata": {
        "trusted": true,
        "_uuid": "bf56faf74f7e29c9ed7523308718a9ab1acc0667",
        "id": "1tnPriBD-7oa"
      },
      "source": [
        "# Target (apples)\n",
        "targets = np.array([[56], \n",
        "                    [81], \n",
        "                    [119], \n",
        "                    [22], \n",
        "                    [103]], dtype='float32')"
      ],
      "execution_count": 39,
      "outputs": []
    },
    {
      "cell_type": "markdown",
      "metadata": {
        "_uuid": "70d48f83ae4fce7aba7dd78fd58dddc77c598bfd",
        "id": "MyJm3YtE-7oo"
      },
      "source": [
        "Before we build a model, we need to convert inputs and targets to PyTorch tensors."
      ]
    },
    {
      "cell_type": "code",
      "metadata": {
        "trusted": true,
        "_uuid": "931c1bad8788e607fa100d4338e1b1fe120e2339",
        "id": "KZyKnyCc-7oq",
        "colab": {
          "base_uri": "https://localhost:8080/"
        },
        "outputId": "3e976bfd-ee81-4689-cb5a-f4bbfd18827c"
      },
      "source": [
        "# Convert inputs and targets to tensors\n",
        "input_tensor = torch.tensor(inputs)\n",
        "print('Tensor Inputs  :  \\n', input_tensor)\n",
        "target_tensor = torch.tensor(targets)\n",
        "print('\\nTensor targets  :  \\n', target_tensor)"
      ],
      "execution_count": 40,
      "outputs": [
        {
          "output_type": "stream",
          "name": "stdout",
          "text": [
            "Tensor Inputs  :  \n",
            " tensor([[ 73.,  67.,  43.],\n",
            "        [ 91.,  88.,  64.],\n",
            "        [ 87., 134.,  58.],\n",
            "        [102.,  43.,  37.],\n",
            "        [ 69.,  96.,  70.]])\n",
            "\n",
            "Tensor targets  :  \n",
            " tensor([[ 56.],\n",
            "        [ 81.],\n",
            "        [119.],\n",
            "        [ 22.],\n",
            "        [103.]])\n"
          ]
        }
      ]
    },
    {
      "cell_type": "code",
      "metadata": {
        "id": "VdEQRfj6SMia"
      },
      "source": [
        ""
      ],
      "execution_count": 40,
      "outputs": []
    },
    {
      "cell_type": "markdown",
      "metadata": {
        "_uuid": "652647cd90bd0784ec4dc53472410f7358ee18c9",
        "id": "y0RLCJnb-7o4"
      },
      "source": [
        "## Linear Regression Model (from scratch)\n",
        "\n",
        "The *weights* and *biases* can also be represented as matrices, initialized with random values. The first row of `w` and the first element of `b` are use to predict the first target variable i.e. yield for apples, and similarly the second for oranges."
      ]
    },
    {
      "cell_type": "code",
      "metadata": {
        "id": "BptPi1hpK9P-"
      },
      "source": [
        "def fit(x, w_t, b):\n",
        "  return (x @ w_t) + b"
      ],
      "execution_count": 41,
      "outputs": []
    },
    {
      "cell_type": "code",
      "metadata": {
        "trusted": true,
        "_uuid": "6f788ae559355b3f01667be1554a5d2bdcade8db",
        "id": "OjToROni-7o5",
        "colab": {
          "base_uri": "https://localhost:8080/"
        },
        "outputId": "1c59a80d-301c-4a7a-b049-4d1920d1e016"
      },
      "source": [
        "# Weights and biases\n",
        "weights = torch.randn(1, 3, requires_grad=True)\n",
        "biases = torch.randn(1, requires_grad=True)\n",
        "weights_transpose = torch.transpose(weights, 0, 1)\n",
        "\n",
        "print(\"Weights  :  \",weights)\n",
        "print(\"\\nBiases  :  \",biases)\n",
        "print(\"\\nWeights_transpose  :  \\n\",weights_transpose)"
      ],
      "execution_count": 42,
      "outputs": [
        {
          "output_type": "stream",
          "name": "stdout",
          "text": [
            "Weights  :   tensor([[-1.1656,  0.4522,  1.0506]], requires_grad=True)\n",
            "\n",
            "Biases  :   tensor([-0.0503], requires_grad=True)\n",
            "\n",
            "Weights_transpose  :  \n",
            " tensor([[-1.1656],\n",
            "        [ 0.4522],\n",
            "        [ 1.0506]], grad_fn=<TransposeBackward0>)\n"
          ]
        }
      ]
    },
    {
      "cell_type": "code",
      "metadata": {
        "colab": {
          "base_uri": "https://localhost:8080/"
        },
        "id": "ndQSdgrLLHV2",
        "outputId": "d16551ef-007d-427a-a982-11281ff7cc0f"
      },
      "source": [
        "#predictions\n",
        "pred = fit(input_tensor, weights_transpose, biases)\n",
        "print(pred)\n",
        "\n",
        "print(\"Target tensor :- \",target_tensor)"
      ],
      "execution_count": 43,
      "outputs": [
        {
          "output_type": "stream",
          "name": "stdout",
          "text": [
            "tensor([[ -9.6675],\n",
            "        [  0.9100],\n",
            "        [ 20.0695],\n",
            "        [-60.6260],\n",
            "        [ 36.4743]], grad_fn=<AddBackward0>)\n",
            "Target tensor :-  tensor([[ 56.],\n",
            "        [ 81.],\n",
            "        [119.],\n",
            "        [ 22.],\n",
            "        [103.]])\n"
          ]
        }
      ]
    },
    {
      "cell_type": "markdown",
      "metadata": {
        "id": "JcOpmAyqLPTi"
      },
      "source": [
        "**Compare with** **targets**"
      ]
    },
    {
      "cell_type": "code",
      "metadata": {
        "colab": {
          "base_uri": "https://localhost:8080/"
        },
        "id": "jA7GEyq7LUsO",
        "outputId": "e30b0381-1001-41d7-f93d-395c6ac04b13"
      },
      "source": [
        "print(target_tensor)"
      ],
      "execution_count": 44,
      "outputs": [
        {
          "output_type": "stream",
          "name": "stdout",
          "text": [
            "tensor([[ 56.],\n",
            "        [ 81.],\n",
            "        [119.],\n",
            "        [ 22.],\n",
            "        [103.]])\n"
          ]
        }
      ]
    },
    {
      "cell_type": "markdown",
      "metadata": {
        "_uuid": "edaae7266f5d47c5e970e1438a812f10d8d35fb4",
        "id": "hiNOZ2g1-7p7"
      },
      "source": [
        "## Loss Function\n",
        "\n",
        "We can compare the predictions with the actual targets, using the following method: \n",
        "* Calculate the difference between the two matrices (`preds` and `targets`).\n",
        "* Square all elements of the difference matrix to remove negative values.\n",
        "* Calculate the average of the elements in the resulting matrix.\n",
        "\n",
        "The result is a single number, known as the **mean squared error** (MSE)."
      ]
    },
    {
      "cell_type": "code",
      "metadata": {
        "trusted": true,
        "_uuid": "dbf5bca8cbf2a3831089b454c70469e3748e9682",
        "id": "_wY9fW06-7p9"
      },
      "source": [
        "def mse(pred, target):\n",
        "  difference = pred - target\n",
        "  return torch.sum(difference * difference) / difference.numel()"
      ],
      "execution_count": 45,
      "outputs": []
    },
    {
      "cell_type": "code",
      "metadata": {
        "trusted": true,
        "_uuid": "90da6779aad81608c40cdca77c3c04b68a815c11",
        "id": "V__m5zOU-7qH"
      },
      "source": [
        "def model(x, w):\n",
        "    return x @ w.T"
      ],
      "execution_count": 46,
      "outputs": []
    },
    {
      "cell_type": "code",
      "metadata": {
        "id": "r6j18dBoSzpE",
        "colab": {
          "base_uri": "https://localhost:8080/"
        },
        "outputId": "24453b7c-422d-4b16-d9c2-58f819dcc4bd"
      },
      "source": [
        "#compute loss\n",
        "loss = mse(pred, target_tensor)\n",
        "print('Loss   :  ', loss)\n",
        "\n",
        "\n",
        "#compute gradient\n",
        "loss.backward()"
      ],
      "execution_count": 47,
      "outputs": [
        {
          "output_type": "stream",
          "name": "stdout",
          "text": [
            "Loss   :   tensor(6353.3179, grad_fn=<DivBackward0>)\n"
          ]
        }
      ]
    },
    {
      "cell_type": "code",
      "metadata": {
        "id": "Xe5MOvDMTLdG",
        "colab": {
          "base_uri": "https://localhost:8080/"
        },
        "outputId": "47c06aa1-5e31-4cd2-842c-47903b6b6202"
      },
      "source": [
        "#The gradients are stored in the .grad property of the respective tensors.\n",
        "# Gradients for weights\n",
        "print(weights, end=\"\\n-------------\\n\")\n",
        "print(weights.grad)"
      ],
      "execution_count": 48,
      "outputs": [
        {
          "output_type": "stream",
          "name": "stdout",
          "text": [
            "tensor([[-1.1656,  0.4522,  1.0506]], requires_grad=True)\n",
            "-------------\n",
            "tensor([[-13482.7969, -13857.4863,  -8560.5566]])\n"
          ]
        }
      ]
    },
    {
      "cell_type": "code",
      "metadata": {
        "id": "Qv_8KTDRTVwU",
        "colab": {
          "base_uri": "https://localhost:8080/"
        },
        "outputId": "2d5c446b-6a73-4e57-80dd-3eb1194c2833"
      },
      "source": [
        "weights.grad.zero_()\n",
        "biases.grad.zero_()\n",
        "print(weights.grad, end=\"\\n-------\\n\")\n",
        "print(biases.grad)"
      ],
      "execution_count": 49,
      "outputs": [
        {
          "output_type": "stream",
          "name": "stdout",
          "text": [
            "tensor([[0., 0., 0.]])\n",
            "-------\n",
            "tensor([0.])\n"
          ]
        }
      ]
    },
    {
      "cell_type": "markdown",
      "metadata": {
        "id": "gjAQEQeeTfpp"
      },
      "source": [
        "**Adjust weights and biases using gradient descent**\n",
        "\n",
        "\n",
        "We'll reduce the loss and improve our model using the gradient descent algorithm, which has the following steps:\n",
        "\n",
        "1. Generate predictions\n",
        "2. Calculate the loss\n",
        "3. Compute gradients w.r.t the weights and biases\n",
        "4. Adjust the weights by subtracting a small quantity proportional to the 5. gradient\n",
        "6. Reset the gradients to zero"
      ]
    },
    {
      "cell_type": "code",
      "metadata": {
        "id": "reY4ssdqT2HI",
        "colab": {
          "base_uri": "https://localhost:8080/"
        },
        "outputId": "70ad7716-e232-47d8-e7ff-aaa2521219b6"
      },
      "source": [
        "#prediction\n",
        "prediction = fit(input_tensor, weights.t(), biases)\n",
        "print(prediction)"
      ],
      "execution_count": 50,
      "outputs": [
        {
          "output_type": "stream",
          "name": "stdout",
          "text": [
            "tensor([[ -9.6675],\n",
            "        [  0.9100],\n",
            "        [ 20.0695],\n",
            "        [-60.6260],\n",
            "        [ 36.4743]], grad_fn=<AddBackward0>)\n"
          ]
        }
      ]
    },
    {
      "cell_type": "code",
      "metadata": {
        "id": "8o3cVUemUIWE",
        "colab": {
          "base_uri": "https://localhost:8080/"
        },
        "outputId": "1e77b188-8aa3-4f11-adba-cf38678997f7"
      },
      "source": [
        "#loss\n",
        "loss = mse(prediction, target_tensor)\n",
        "print(loss)"
      ],
      "execution_count": 51,
      "outputs": [
        {
          "output_type": "stream",
          "name": "stdout",
          "text": [
            "tensor(6353.3179, grad_fn=<DivBackward0>)\n"
          ]
        }
      ]
    },
    {
      "cell_type": "code",
      "metadata": {
        "id": "yHRUPZCMULHL"
      },
      "source": [
        "#compute gradients\n",
        "loss.backward()"
      ],
      "execution_count": 52,
      "outputs": []
    },
    {
      "cell_type": "code",
      "metadata": {
        "id": "3HBkSFzkUNsx",
        "colab": {
          "base_uri": "https://localhost:8080/"
        },
        "outputId": "f6f499b5-5414-4b52-e331-e4086cbc335b"
      },
      "source": [
        "# Adjust weights & reset gradients\n",
        "with torch.no_grad():\n",
        "    weights -= weights.grad * 1e-5\n",
        "    biases -= biases.grad * 1e-5\n",
        "    weights.grad.zero_()\n",
        "    biases.grad.zero_()\n",
        "print(weights)"
      ],
      "execution_count": 53,
      "outputs": [
        {
          "output_type": "stream",
          "name": "stdout",
          "text": [
            "tensor([[-1.0308,  0.5908,  1.1362]], requires_grad=True)\n"
          ]
        }
      ]
    },
    {
      "cell_type": "code",
      "metadata": {
        "id": "VjGBDUcyUQfX",
        "colab": {
          "base_uri": "https://localhost:8080/"
        },
        "outputId": "dad2760f-597e-4e28-cb1a-d0a334119f2b"
      },
      "source": [
        "# Calculate loss\n",
        "prediction = fit(input_tensor, weights.t(), biases)\n",
        "loss = mse(prediction, target_tensor)\n",
        "print(loss)"
      ],
      "execution_count": 54,
      "outputs": [
        {
          "output_type": "stream",
          "name": "stdout",
          "text": [
            "tensor(2682.4985, grad_fn=<DivBackward0>)\n"
          ]
        }
      ]
    },
    {
      "cell_type": "markdown",
      "metadata": {
        "id": "W3cesQ0rUY6Q"
      },
      "source": [
        "**Train for multiple epochs**\n",
        "\n",
        "\n",
        "To reduce the loss further, we repeat the process of adjusting the weights and biases using the gradients multiple times. Each iteration is called an epoch."
      ]
    },
    {
      "cell_type": "code",
      "metadata": {
        "id": "R7wUuWj4Ucaf"
      },
      "source": [
        "# Train for 100 epochs\n",
        "for i in range(100):\n",
        "    prediction = fit(input_tensor, weights.t(), biases)\n",
        "    loss = mse(prediction, target_tensor)\n",
        "    loss.backward()\n",
        "    with torch.no_grad():\n",
        "        weights -= weights.grad * 1e-5\n",
        "        biases -= biases.grad * 1e-5\n",
        "        weights.grad.zero_()\n",
        "        biases.grad.zero_()"
      ],
      "execution_count": 55,
      "outputs": []
    },
    {
      "cell_type": "code",
      "metadata": {
        "id": "0v6ZFMj4UiJO",
        "colab": {
          "base_uri": "https://localhost:8080/"
        },
        "outputId": "cdb053ba-4907-471e-d47e-f4dc6dd20032"
      },
      "source": [
        "# Calculate loss\n",
        "prediction = fit(input_tensor, weights.t(), biases)\n",
        "loss = mse(prediction, target_tensor)\n",
        "print(loss)"
      ],
      "execution_count": 56,
      "outputs": [
        {
          "output_type": "stream",
          "name": "stdout",
          "text": [
            "tensor(32.7809, grad_fn=<DivBackward0>)\n"
          ]
        }
      ]
    },
    {
      "cell_type": "code",
      "metadata": {
        "id": "XIBsxAxDUjwl",
        "colab": {
          "base_uri": "https://localhost:8080/"
        },
        "outputId": "0ecdffe5-7323-4b4a-ce49-cc5fb6e0f76d"
      },
      "source": [
        "#prediction\n",
        "print(prediction)"
      ],
      "execution_count": 57,
      "outputs": [
        {
          "output_type": "stream",
          "name": "stdout",
          "text": [
            "tensor([[ 55.9762],\n",
            "        [ 85.2343],\n",
            "        [113.7190],\n",
            "        [ 14.6018],\n",
            "        [110.9594]], grad_fn=<AddBackward0>)\n"
          ]
        }
      ]
    },
    {
      "cell_type": "code",
      "metadata": {
        "id": "J3tfrTMLUoKW",
        "colab": {
          "base_uri": "https://localhost:8080/"
        },
        "outputId": "ec624b35-ad76-4c1d-d86b-ed46a01fa3a4"
      },
      "source": [
        "#tensor targets\n",
        "print(target_tensor)"
      ],
      "execution_count": 58,
      "outputs": [
        {
          "output_type": "stream",
          "name": "stdout",
          "text": [
            "tensor([[ 56.],\n",
            "        [ 81.],\n",
            "        [119.],\n",
            "        [ 22.],\n",
            "        [103.]])\n"
          ]
        }
      ]
    }
  ]
}