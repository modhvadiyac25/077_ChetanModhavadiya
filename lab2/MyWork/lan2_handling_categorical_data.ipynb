{
  "nbformat": 4,
  "nbformat_minor": 0,
  "metadata": {
    "colab": {
      "name": "lan2_handling_categorical_data.ipynb",
      "provenance": []
    },
    "kernelspec": {
      "name": "python3",
      "display_name": "Python 3"
    },
    "language_info": {
      "name": "python"
    }
  },
  "cells": [
    {
      "cell_type": "code",
      "metadata": {
        "id": "bCExXfo8ZeIU"
      },
      "source": [
        "import numpy as np \n",
        "import pandas as pd\n",
        "from sklearn.preprocessing import LabelEncoder,OneHotEncoder"
      ],
      "execution_count": 19,
      "outputs": []
    },
    {
      "cell_type": "code",
      "metadata": {
        "id": "U4bAI-9FeSHM"
      },
      "source": [
        ""
      ],
      "execution_count": null,
      "outputs": []
    },
    {
      "cell_type": "code",
      "metadata": {
        "colab": {
          "base_uri": "https://localhost:8080/"
        },
        "id": "LviB36KfbDH2",
        "outputId": "83eb39d0-aa25-4e91-f33e-74ea7f5fdfb4"
      },
      "source": [
        "datasets = pd.read_csv('/content/drive/MyDrive/Colab Notebooks/ML/lab2/Data_for_Categorical_Values.csv')\n",
        "print(\"Data : \\n\", datasets)\n",
        "print(\"\\n=======================================n\")\n",
        "print(\"Data Statictic : \", datasets.describe())"
      ],
      "execution_count": 20,
      "outputs": [
        {
          "output_type": "stream",
          "text": [
            "Data : \n",
            "     Country  Age  Salary Purchased\n",
            "0    France   44   72000        No\n",
            "1     Spain   27   48000       Yes\n",
            "2   Germany   30   54000        No\n",
            "3     Spain   38   61000        No\n",
            "4   Germany   40   68000       Yes\n",
            "5    France   35   58000       Yes\n",
            "6     Spain   39   52000        No\n",
            "7    France   48   79000       Yes\n",
            "8   Germany   50   83000        No\n",
            "9    France   37   67000       Yes\n",
            "10    Spain   45   55000        No\n",
            "\n",
            "=======================================n\n",
            "Data Statictic :               Age        Salary\n",
            "count  11.000000     11.000000\n",
            "mean   39.363636  63363.636364\n",
            "std     7.131237  11386.594989\n",
            "min    27.000000  48000.000000\n",
            "25%    36.000000  54500.000000\n",
            "50%    39.000000  61000.000000\n",
            "75%    44.500000  70000.000000\n",
            "max    50.000000  83000.000000\n"
          ],
          "name": "stdout"
        }
      ]
    },
    {
      "cell_type": "code",
      "metadata": {
        "colab": {
          "base_uri": "https://localhost:8080/"
        },
        "id": "Pa3q84AU3R8E",
        "outputId": "26abaebe-59e6-433a-9fee-3fc76d645b81"
      },
      "source": [
        "X = datasets.iloc[:, :-1].values\n",
        "Y = datasets.iloc[:, -1].values\n",
        "\n",
        "print(\"X : \",X)\n",
        "print(\"Y : \",Y)"
      ],
      "execution_count": 21,
      "outputs": [
        {
          "output_type": "stream",
          "text": [
            "X :  [['France' 44 72000]\n",
            " ['Spain' 27 48000]\n",
            " ['Germany' 30 54000]\n",
            " ['Spain' 38 61000]\n",
            " ['Germany' 40 68000]\n",
            " ['France' 35 58000]\n",
            " ['Spain' 39 52000]\n",
            " ['France' 48 79000]\n",
            " ['Germany' 50 83000]\n",
            " ['France' 37 67000]\n",
            " ['Spain' 45 55000]]\n",
            "Y :  ['No' 'Yes' 'No' 'No' 'Yes' 'Yes' 'No' 'Yes' 'No' 'Yes' 'No']\n"
          ],
          "name": "stdout"
        }
      ]
    },
    {
      "cell_type": "code",
      "metadata": {
        "colab": {
          "base_uri": "https://localhost:8080/"
        },
        "id": "TFSegSozBeYz",
        "outputId": "cb5813df-2514-432f-9aed-74e2f1eab299"
      },
      "source": [
        "lable_encoder = LabelEncoder()\n",
        "X[: ,0] = lable_encoder.fit_transform(X[: ,0])\n",
        "print(\"\\nInput : \\n\",X)"
      ],
      "execution_count": 22,
      "outputs": [
        {
          "output_type": "stream",
          "text": [
            "\n",
            "Input : \n",
            " [[0 44 72000]\n",
            " [2 27 48000]\n",
            " [1 30 54000]\n",
            " [2 38 61000]\n",
            " [1 40 68000]\n",
            " [0 35 58000]\n",
            " [2 39 52000]\n",
            " [0 48 79000]\n",
            " [1 50 83000]\n",
            " [0 37 67000]\n",
            " [2 45 55000]]\n"
          ],
          "name": "stdout"
        }
      ]
    },
    {
      "cell_type": "code",
      "metadata": {
        "colab": {
          "base_uri": "https://localhost:8080/"
        },
        "id": "oSTBpzm9D6QX",
        "outputId": "7c211b2e-95de-4206-b25a-ac3a12521897"
      },
      "source": [
        "dummy_var = pd.get_dummies(datasets['Country'])\n",
        "print(\"\\nDummy Data : \\n\",dummy_var)\n",
        "\n",
        "\n",
        "datasets = datasets.drop(['Country','Purchased'],axis=1)\n",
        "print(\"\\nIntermidiate Dataset : \\n\",datasets)\n",
        "datasets = pd.concat([dummy_var,datasets],axis=1)\n",
        "print(\"\\nFinal Dataset : \\n\",datasets)\n"
      ],
      "execution_count": 24,
      "outputs": [
        {
          "output_type": "stream",
          "text": [
            "\n",
            "Dummy Data : \n",
            "     France  Germany  Spain\n",
            "0        1        0      0\n",
            "1        0        0      1\n",
            "2        0        1      0\n",
            "3        0        0      1\n",
            "4        0        1      0\n",
            "5        1        0      0\n",
            "6        0        0      1\n",
            "7        1        0      0\n",
            "8        0        1      0\n",
            "9        1        0      0\n",
            "10       0        0      1\n",
            "\n",
            "Intermidiate Dataset : \n",
            "     Age  Salary\n",
            "0    44   72000\n",
            "1    27   48000\n",
            "2    30   54000\n",
            "3    38   61000\n",
            "4    40   68000\n",
            "5    35   58000\n",
            "6    39   52000\n",
            "7    48   79000\n",
            "8    50   83000\n",
            "9    37   67000\n",
            "10   45   55000\n",
            "\n",
            "Final Dataset : \n",
            "     France  Germany  Spain  Age  Salary\n",
            "0        1        0      0   44   72000\n",
            "1        0        0      1   27   48000\n",
            "2        0        1      0   30   54000\n",
            "3        0        0      1   38   61000\n",
            "4        0        1      0   40   68000\n",
            "5        1        0      0   35   58000\n",
            "6        0        0      1   39   52000\n",
            "7        1        0      0   48   79000\n",
            "8        0        1      0   50   83000\n",
            "9        1        0      0   37   67000\n",
            "10       0        0      1   45   55000\n"
          ],
          "name": "stdout"
        }
      ]
    }
  ]
}