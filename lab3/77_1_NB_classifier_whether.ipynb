{
  "nbformat": 4,
  "nbformat_minor": 0,
  "metadata": {
    "colab": {
      "name": "77_1_NB_classifier_whether.ipynb",
      "provenance": [],
      "collapsed_sections": []
    },
    "kernelspec": {
      "name": "python3",
      "display_name": "Python 3"
    },
    "language_info": {
      "name": "python"
    }
  },
  "cells": [
    {
      "cell_type": "code",
      "metadata": {
        "id": "vs7x4LHPQWdZ"
      },
      "source": [
        "from sklearn import preprocessing\n",
        "from sklearn.naive_bayes import GaussianNB,MultinomialNB\n",
        "import pandas as pd\n",
        "from sklearn.model_selection import train_test_split\n",
        "from pandas.core.common import random_state"
      ],
      "execution_count": 16,
      "outputs": []
    },
    {
      "cell_type": "code",
      "metadata": {
        "id": "7e2jB8l3V1kq"
      },
      "source": [
        "weather = ['Sunny', 'Sunny', 'Overcast', 'Rainy', 'Rainy','Rainy', 'Overcast',\n",
        "           'Sunny', 'Sunny', 'Rainy', 'Sunny', 'Overcast', 'Overcast', 'Rainy']\n",
        "\n",
        "temp = ['Hot','Hot','Hot','Mild','Cool','Cool','Cool','Mild',\n",
        "        'Cool','Mild','Mild','Mild','Hot','Mild']\n",
        "\n",
        "play=['No','No','Yes','Yes','Yes','No','Yes','No','Yes',\n",
        "      'Yes','Yes','Yes','Yes','No']"
      ],
      "execution_count": 17,
      "outputs": []
    },
    {
      "cell_type": "code",
      "metadata": {
        "colab": {
          "base_uri": "https://localhost:8080/"
        },
        "id": "FagrlGK4ZdFn",
        "outputId": "796720b0-b495-41d1-f97c-f4e200a7e3dd"
      },
      "source": [
        "le = preprocessing.LabelEncoder()\n",
        "weather_encoded = le.fit_transform(weather)\n",
        "print(\"Weather : \",weather_encoded)"
      ],
      "execution_count": 18,
      "outputs": [
        {
          "output_type": "stream",
          "name": "stdout",
          "text": [
            "Weather :  [2 2 0 1 1 1 0 2 2 1 2 0 0 1]\n"
          ]
        }
      ]
    },
    {
      "cell_type": "code",
      "metadata": {
        "id": "JeJNssABlPbj",
        "colab": {
          "base_uri": "https://localhost:8080/"
        },
        "outputId": "40752b2f-9cd0-4596-e4cc-2e6ae6dbcd3c"
      },
      "source": [
        "le.classes_\n",
        "\n",
        "print(\"===============\")\n",
        "\n",
        "pd.Series(weather_encoded)"
      ],
      "execution_count": 19,
      "outputs": [
        {
          "output_type": "stream",
          "name": "stdout",
          "text": [
            "===============\n"
          ]
        },
        {
          "output_type": "execute_result",
          "data": {
            "text/plain": [
              "0     2\n",
              "1     2\n",
              "2     0\n",
              "3     1\n",
              "4     1\n",
              "5     1\n",
              "6     0\n",
              "7     2\n",
              "8     2\n",
              "9     1\n",
              "10    2\n",
              "11    0\n",
              "12    0\n",
              "13    1\n",
              "dtype: int64"
            ]
          },
          "metadata": {},
          "execution_count": 19
        }
      ]
    },
    {
      "cell_type": "code",
      "metadata": {
        "colab": {
          "base_uri": "https://localhost:8080/"
        },
        "id": "fza6732uQsKU",
        "outputId": "a9366f26-a252-4a8d-fb41-15d5644e54ea"
      },
      "source": [
        "temp_encoded = le.fit_transform(temp)\n",
        "play_encoded = le.fit_transform(play)\n",
        "\n",
        "print(\"\\ntemp encoded : \\n\",temp_encoded)\n",
        "print(\"\\nPlay Encoded : \\n\",play_encoded)"
      ],
      "execution_count": 20,
      "outputs": [
        {
          "output_type": "stream",
          "name": "stdout",
          "text": [
            "\n",
            "temp encoded : \n",
            " [1 1 1 2 0 0 0 2 0 2 2 2 1 2]\n",
            "\n",
            "Play Encoded : \n",
            " [0 0 1 1 1 0 1 0 1 1 1 1 1 0]\n"
          ]
        }
      ]
    },
    {
      "cell_type": "code",
      "metadata": {
        "colab": {
          "base_uri": "https://localhost:8080/"
        },
        "id": "Yb2YftQzRYwr",
        "outputId": "bf66e1bc-a73c-4211-b453-be338d020ea6"
      },
      "source": [
        "#combining weather and temp\n",
        "feature = tuple(zip(weather_encoded,temp_encoded))\n",
        "print(\"Feature : \",feature)"
      ],
      "execution_count": 21,
      "outputs": [
        {
          "output_type": "stream",
          "name": "stdout",
          "text": [
            "Feature :  ((2, 1), (2, 1), (0, 1), (1, 2), (1, 0), (1, 0), (0, 0), (2, 2), (2, 0), (1, 2), (2, 2), (0, 2), (0, 1), (1, 2))\n"
          ]
        }
      ]
    },
    {
      "cell_type": "code",
      "metadata": {
        "id": "3lQvnARlSOT1",
        "colab": {
          "base_uri": "https://localhost:8080/"
        },
        "outputId": "b0454300-ce9f-4f3c-b627-1d7fcbc9af87"
      },
      "source": [
        "model = MultinomialNB()\n",
        "model.fit(feature,play_encoded)"
      ],
      "execution_count": 22,
      "outputs": [
        {
          "output_type": "execute_result",
          "data": {
            "text/plain": [
              "MultinomialNB(alpha=1.0, class_prior=None, fit_prior=True)"
            ]
          },
          "metadata": {},
          "execution_count": 22
        }
      ]
    },
    {
      "cell_type": "code",
      "metadata": {
        "colab": {
          "base_uri": "https://localhost:8080/"
        },
        "id": "QRxmBViw-7BU",
        "outputId": "213fa41c-3485-46d0-bf3c-7821bfd5a715"
      },
      "source": [
        "predicted = model.predict([[0,2]])\n",
        "print(\"predicted value : \",predicted)"
      ],
      "execution_count": 23,
      "outputs": [
        {
          "output_type": "stream",
          "name": "stdout",
          "text": [
            "predicted value :  [1]\n"
          ]
        }
      ]
    },
    {
      "cell_type": "code",
      "metadata": {
        "colab": {
          "base_uri": "https://localhost:8080/"
        },
        "id": "dwbNA-rbR7r3",
        "outputId": "0cd9ca25-2b3c-462a-bd39-ea8263a760ac"
      },
      "source": [
        "predicted = model.predict([[0,1]])\n",
        "print(\"predicted value : \",predicted)"
      ],
      "execution_count": 24,
      "outputs": [
        {
          "output_type": "stream",
          "name": "stdout",
          "text": [
            "predicted value :  [1]\n"
          ]
        }
      ]
    },
    {
      "cell_type": "code",
      "metadata": {
        "colab": {
          "base_uri": "https://localhost:8080/"
        },
        "id": "lveLRD7mS93M",
        "outputId": "272119b8-9063-48e9-b7e8-48bbb31cd571"
      },
      "source": [
        "predicted = model.predict([[2,2]])\n",
        "print(\"predicted value : \",predicted)"
      ],
      "execution_count": 25,
      "outputs": [
        {
          "output_type": "stream",
          "name": "stdout",
          "text": [
            "predicted value :  [1]\n"
          ]
        }
      ]
    },
    {
      "cell_type": "code",
      "metadata": {
        "colab": {
          "base_uri": "https://localhost:8080/"
        },
        "id": "hrv2jQ23TIRQ",
        "outputId": "9748fe68-dd2a-47c6-e119-dee113bbe705"
      },
      "source": [
        "#Excercise with practice Dataset1\n",
        "dataset = pd.read_csv('/content/drive/MyDrive/Colab Notebooks/ML/lab3/PracticeDataSets/Dataset1.csv')\n",
        "print(dataset)"
      ],
      "execution_count": 26,
      "outputs": [
        {
          "output_type": "stream",
          "name": "stdout",
          "text": [
            "   Outlook Temp Humidity Wind Play\n",
            "0        R    H   Normal    F    N\n",
            "1        R    H     High    T    N\n",
            "2        O    H   Normal    F    Y\n",
            "3        S    M   Normal    F    Y\n",
            "4        S    C   Normal    F    Y\n",
            "5        S    C      Low    T    N\n",
            "6        O    C   Normal    T    Y\n",
            "7        R    M   Normal    F    N\n",
            "8        R    C      Low    F    Y\n",
            "9        S    M     High    F    Y\n",
            "10       R    M     High    T    Y\n",
            "11       O    M      Low    T    Y\n",
            "12       O    H   Normal    F    Y\n",
            "13       S    M   Normal    T    N\n"
          ]
        }
      ]
    },
    {
      "cell_type": "code",
      "metadata": {
        "colab": {
          "base_uri": "https://localhost:8080/"
        },
        "id": "v4FIJClSzHQY",
        "outputId": "c2e50ce3-2087-4566-f677-f0b30d36c873"
      },
      "source": [
        "outlook_enc = le.fit_transform(dataset[\"Outlook\"])\n",
        "temp_enc = le.fit_transform(dataset[\"Temp\"])\n",
        "humidity_enc = le.fit_transform(dataset[\"Humidity\"])\n",
        "wind_enc = le.fit_transform(dataset[\"Wind\"])\n",
        "play_enc = le.fit_transform(dataset[\"Play\"])\n",
        "\n",
        "print(\"\\n========================\\n\")\n",
        "print(\"\\nOutlook :- \")\n",
        "print(outlook_enc)\n",
        "print(\"\\nTemp :- \")\n",
        "print(temp_enc)\n",
        "print(\"\\nHumidity :- \")\n",
        "print(humidity_enc)\n",
        "print(\"\\nWind :-\")\n",
        "print(wind_enc)\n",
        "print(\"\\nplay :-\")\n",
        "print(play_enc)\n",
        "print(\"\\n==========================\\n\")"
      ],
      "execution_count": 27,
      "outputs": [
        {
          "output_type": "stream",
          "name": "stdout",
          "text": [
            "\n",
            "========================\n",
            "\n",
            "\n",
            "Outlook :- \n",
            "[1 1 0 2 2 2 0 1 1 2 1 0 0 2]\n",
            "\n",
            "Temp :- \n",
            "[1 1 1 2 0 0 0 2 0 2 2 2 1 2]\n",
            "\n",
            "Humidity :- \n",
            "[2 0 2 2 2 1 2 2 1 0 0 1 2 2]\n",
            "\n",
            "Wind :-\n",
            "[0 1 0 0 0 1 1 0 0 0 1 1 0 1]\n",
            "\n",
            "play :-\n",
            "[0 0 1 1 1 0 1 0 1 1 1 1 1 0]\n",
            "\n",
            "==========================\n",
            "\n"
          ]
        }
      ]
    },
    {
      "cell_type": "code",
      "metadata": {
        "colab": {
          "base_uri": "https://localhost:8080/"
        },
        "id": "nTkKvoI81p2o",
        "outputId": "48d0551f-e71f-489d-84eb-aac883b85b98"
      },
      "source": [
        "\n",
        "Y = le.fit_transform(dataset[\"Play\"])\n",
        "dataset = dataset.drop([\"Play\"],axis=1)\n",
        "X = tuple(zip(outlook_enc,temp_enc,humidity_enc,wind_enc))\n",
        "x_train,x_test,y_train,y_test = train_test_split(X,Y,test_size=0.3,random_state=54)\n",
        "\n",
        "print(\"X_train :- \\n\",x_train)\n",
        "print(\"X_test :-\\n\",x_test)\n",
        "print(\"Y_train :-\\n\",y_train)\n",
        "print(\"Y_test :-\\n\",y_test)"
      ],
      "execution_count": 28,
      "outputs": [
        {
          "output_type": "stream",
          "name": "stdout",
          "text": [
            "X_train :- \n",
            " [(0, 0, 2, 1), (1, 2, 0, 1), (0, 2, 1, 1), (1, 0, 1, 0), (1, 1, 2, 0), (1, 1, 0, 1), (1, 2, 2, 0), (0, 1, 2, 0), (2, 0, 1, 1)]\n",
            "X_test :-\n",
            " [(2, 0, 2, 0), (0, 1, 2, 0), (2, 2, 0, 0), (2, 2, 2, 0), (2, 2, 2, 1)]\n",
            "Y_train :-\n",
            " [1 1 1 1 0 0 0 1 0]\n",
            "Y_test :-\n",
            " [1 1 1 1 0]\n"
          ]
        }
      ]
    },
    {
      "cell_type": "code",
      "metadata": {
        "id": "JfHXtlo25Wxh",
        "colab": {
          "base_uri": "https://localhost:8080/"
        },
        "outputId": "dfafb92a-267f-4344-e174-438f1a6d1eb4"
      },
      "source": [
        "model.fit(x_train,y_train)"
      ],
      "execution_count": 38,
      "outputs": [
        {
          "output_type": "execute_result",
          "data": {
            "text/plain": [
              "MultinomialNB(alpha=1.0, class_prior=None, fit_prior=True)"
            ]
          },
          "metadata": {},
          "execution_count": 38
        }
      ]
    },
    {
      "cell_type": "code",
      "metadata": {
        "colab": {
          "base_uri": "https://localhost:8080/"
        },
        "id": "7eMlaiaRtj5b",
        "outputId": "8090bcad-fa5b-43c8-ad58-60ee1c4c62b6"
      },
      "source": [
        "predict = model.predict([[0,0,2,1]])\n",
        "print(\"predicted : \",predict)"
      ],
      "execution_count": 39,
      "outputs": [
        {
          "output_type": "stream",
          "name": "stdout",
          "text": [
            "predicted :  [1]\n"
          ]
        }
      ]
    },
    {
      "cell_type": "code",
      "metadata": {
        "colab": {
          "base_uri": "https://localhost:8080/"
        },
        "id": "UqLB59RPupP6",
        "outputId": "2457cbcd-f786-41ca-eec6-cbafb526d515"
      },
      "source": [
        "predict = model.predict([[2,2,2,1]])\n",
        "print(\"predicted : \",predict)"
      ],
      "execution_count": 40,
      "outputs": [
        {
          "output_type": "stream",
          "name": "stdout",
          "text": [
            "predicted :  [0]\n"
          ]
        }
      ]
    },
    {
      "cell_type": "code",
      "metadata": {
        "colab": {
          "base_uri": "https://localhost:8080/"
        },
        "id": "2hFaglpav9h0",
        "outputId": "07d6eba6-7249-41cb-dba7-bd2e149dfc73"
      },
      "source": [
        "test_prediction = model.predict(x_test)\n",
        "print(\"Test Prediction :- \",test_prediction)"
      ],
      "execution_count": 41,
      "outputs": [
        {
          "output_type": "stream",
          "name": "stdout",
          "text": [
            "Test Prediction :-  [0 1 0 0 0]\n"
          ]
        }
      ]
    },
    {
      "cell_type": "code",
      "metadata": {
        "colab": {
          "base_uri": "https://localhost:8080/"
        },
        "id": "ThzF4hG1wtC7",
        "outputId": "c05e01be-9aca-4ad6-896f-d781ff9b1389"
      },
      "source": [
        "#Excercice\n",
        "#Will you play if the temperature is 'Hot' and weather is 'overcast'?\n",
        "predict = model.predict([[0,1,2,0]])\n",
        "print(\"predicted : \",predict)"
      ],
      "execution_count": 45,
      "outputs": [
        {
          "output_type": "stream",
          "name": "stdout",
          "text": [
            "predicted :  [1]\n"
          ]
        }
      ]
    },
    {
      "cell_type": "code",
      "metadata": {
        "colab": {
          "base_uri": "https://localhost:8080/"
        },
        "id": "3mS4SwRXw9pp",
        "outputId": "b19f9587-2ac9-4e39-db62-8998f5a60a7b"
      },
      "source": [
        "#Will you play if the temperature is 'Mild' and weather is 'Sunny'?\n",
        "predict = model.predict([[1,0,1,0]])\n",
        "print(\"predicted : \",predict)"
      ],
      "execution_count": 46,
      "outputs": [
        {
          "output_type": "stream",
          "name": "stdout",
          "text": [
            "predicted :  [0]\n"
          ]
        }
      ]
    }
  ]
}