{
  "nbformat": 4,
  "nbformat_minor": 0,
  "metadata": {
    "colab": {
      "name": "77_2_NB_Classifier_Iris_2Classes.ipynb",
      "provenance": [],
      "collapsed_sections": []
    },
    "kernelspec": {
      "name": "python3",
      "display_name": "Python 3"
    },
    "language_info": {
      "name": "python"
    }
  },
  "cells": [
    {
      "cell_type": "code",
      "metadata": {
        "id": "dwwzqxj1yzSd"
      },
      "source": [
        "import numpy as np\n",
        "from sklearn import datasets\n",
        "from sklearn.naive_bayes import GaussianNB\n",
        "\n",
        "iris = datasets.load_iris() "
      ],
      "execution_count": 2,
      "outputs": []
    },
    {
      "cell_type": "code",
      "metadata": {
        "colab": {
          "base_uri": "https://localhost:8080/"
        },
        "id": "XXbc58mf3B8y",
        "outputId": "80a48736-a031-4cdc-ea7c-22d60d107411"
      },
      "source": [
        "print(\"Feature :- \",iris.feature_names)\n",
        "print(\"Labels :- \",iris.target_names)\n",
        "print(\"Data shape\",iris.data.shape)\n",
        "print(\"Target shape\",iris.target.shape)\n",
        "print(\"Data Type:-\",type(iris.data))\n",
        "\n",
        "new_data = iris.data[50:,:]\n",
        "new_target = iris.target[50:]\n",
        "\n",
        "print(\"\\nNew data shape :\",new_data.shape)\n",
        "print(\"\\nNew Target shape :\",new_target.shape)"
      ],
      "execution_count": 3,
      "outputs": [
        {
          "output_type": "stream",
          "name": "stdout",
          "text": [
            "Feature :-  ['sepal length (cm)', 'sepal width (cm)', 'petal length (cm)', 'petal width (cm)']\n",
            "Labels :-  ['setosa' 'versicolor' 'virginica']\n",
            "Data shape (150, 4)\n",
            "Target shape (150,)\n",
            "Data Type:- <class 'numpy.ndarray'>\n",
            "\n",
            "New data shape : (100, 4)\n",
            "\n",
            "New Target shape : (100,)\n"
          ]
        }
      ]
    },
    {
      "cell_type": "code",
      "metadata": {
        "id": "Z7ejlyEQ44pt"
      },
      "source": [
        "from sklearn.model_selection import train_test_split\n",
        "data_train,data_test,target_train,target_test = train_test_split(new_data,new_target,test_size = 0.30,random_state =5)"
      ],
      "execution_count": 10,
      "outputs": []
    },
    {
      "cell_type": "code",
      "metadata": {
        "colab": {
          "base_uri": "https://localhost:8080/"
        },
        "id": "-yDApNbX5nX9",
        "outputId": "ceca2f83-caca-4b70-edd9-c9ff8b4018b8"
      },
      "source": [
        "import numpy as np\n",
        "gnb = GaussianNB()\n",
        "gnb.fit(data_train, target_train)\n",
        "target_predict = gnb.predict(data_test)\n",
        "print(\"Target Prediction :- \",target_predict)"
      ],
      "execution_count": 15,
      "outputs": [
        {
          "output_type": "stream",
          "name": "stdout",
          "text": [
            "Target Prediction :-  [2 1 1 1 2 1 1 2 1 1 2 1 2 1 2 1 1 2 1 1 2 1 1 1 1 1 2 2 2 2]\n"
          ]
        }
      ]
    },
    {
      "cell_type": "code",
      "metadata": {
        "colab": {
          "base_uri": "https://localhost:8080/"
        },
        "id": "PMzYk83P8Jg6",
        "outputId": "135f90f1-223b-4537-e333-81344c218fc2"
      },
      "source": [
        "from sklearn import metrics\n",
        "print(\"Accuracy :- \",metrics.accuracy_score(target_test,target_predict))"
      ],
      "execution_count": 18,
      "outputs": [
        {
          "output_type": "stream",
          "name": "stdout",
          "text": [
            "Accuracy :-  0.9\n"
          ]
        }
      ]
    },
    {
      "cell_type": "code",
      "metadata": {
        "colab": {
          "base_uri": "https://localhost:8080/"
        },
        "id": "KkyU65OP7egG",
        "outputId": "deb4db7e-5551-493a-a938-12f2d6a971be"
      },
      "source": [
        "from sklearn.metrics import confusion_matrix\n",
        "confusion_matrix(target_test, target_predict)"
      ],
      "execution_count": 16,
      "outputs": [
        {
          "output_type": "execute_result",
          "data": {
            "text/plain": [
              "array([[16,  1],\n",
              "       [ 2, 11]])"
            ]
          },
          "metadata": {},
          "execution_count": 16
        }
      ]
    },
    {
      "cell_type": "code",
      "metadata": {
        "colab": {
          "base_uri": "https://localhost:8080/"
        },
        "id": "uNWJvIzv8r9S",
        "outputId": "0d0d0450-8617-4c3d-e47f-fbb99dea1530"
      },
      "source": [
        "from sklearn.metrics import precision_score\n",
        "from sklearn.metrics import recall_score\n",
        "\n",
        "precision = precision_score(target_test, target_predict)\n",
        "recall = recall_score(target_test, target_predict)\n",
        "\n",
        "print(\"Precision :- \",precision)\n",
        "print(\"Recall :- \",recall)"
      ],
      "execution_count": 20,
      "outputs": [
        {
          "output_type": "stream",
          "name": "stdout",
          "text": [
            "Precision :-  0.8888888888888888\n",
            "Recall :-  0.9411764705882353\n"
          ]
        }
      ]
    }
  ]
}