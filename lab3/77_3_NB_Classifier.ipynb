{
  "nbformat": 4,
  "nbformat_minor": 0,
  "metadata": {
    "colab": {
      "name": "77_3_NB_Classifier.ipynb",
      "provenance": [],
      "collapsed_sections": []
    },
    "kernelspec": {
      "name": "python3",
      "display_name": "Python 3"
    },
    "language_info": {
      "name": "python"
    }
  },
  "cells": [
    {
      "cell_type": "code",
      "metadata": {
        "id": "gdD7Q64iljLl"
      },
      "source": [
        "from sklearn import datasets\n",
        "from sklearn.naive_bayes import GaussianNB\n",
        "\n",
        "iris = datasets.load_iris()"
      ],
      "execution_count": 58,
      "outputs": []
    },
    {
      "cell_type": "code",
      "metadata": {
        "colab": {
          "base_uri": "https://localhost:8080/"
        },
        "id": "u5PVsOUf2Iyl",
        "outputId": "0bae2b07-1873-4f73-922e-fbde5708edaf"
      },
      "source": [
        "print(\"Features: \", iris.feature_names)\n",
        "print(\"Labels: \", iris.target_names)\n",
        "iris.data.shape"
      ],
      "execution_count": 59,
      "outputs": [
        {
          "output_type": "stream",
          "name": "stdout",
          "text": [
            "Features:  ['sepal length (cm)', 'sepal width (cm)', 'petal length (cm)', 'petal width (cm)']\n",
            "Labels:  ['setosa' 'versicolor' 'virginica']\n"
          ]
        },
        {
          "output_type": "execute_result",
          "data": {
            "text/plain": [
              "(150, 4)"
            ]
          },
          "metadata": {},
          "execution_count": 59
        }
      ]
    },
    {
      "cell_type": "code",
      "metadata": {
        "id": "dR-ZbmmV2PC5"
      },
      "source": [
        " from sklearn.model_selection import train_test_split\n",
        "data_train, data_test, target_train, target_test = train_test_split(iris.data,iris.target, test_size = 0.30, random_state = 10)"
      ],
      "execution_count": 60,
      "outputs": []
    },
    {
      "cell_type": "code",
      "metadata": {
        "id": "XDTNwsuF2VkO"
      },
      "source": [
        "import numpy as np\n",
        "gnb = GaussianNB() \n",
        "gnb.fit(data_train, target_train) \n",
        "target_pred = gnb.predict(data_test)"
      ],
      "execution_count": 61,
      "outputs": []
    },
    {
      "cell_type": "code",
      "metadata": {
        "colab": {
          "base_uri": "https://localhost:8080/"
        },
        "id": "t-S_8_lQ2c4X",
        "outputId": "788f15b9-5547-487a-eec9-fd071d0f9f6a"
      },
      "source": [
        "from sklearn import metrics \n",
        "print(\"Accuracy:\",metrics.accuracy_score(target_test, target_pred))"
      ],
      "execution_count": 62,
      "outputs": [
        {
          "output_type": "stream",
          "name": "stdout",
          "text": [
            "Accuracy: 1.0\n"
          ]
        }
      ]
    },
    {
      "cell_type": "code",
      "metadata": {
        "colab": {
          "base_uri": "https://localhost:8080/"
        },
        "id": "oB6sXOOx2gw-",
        "outputId": "4f27e021-5193-428d-ec8e-bb414e440f78"
      },
      "source": [
        "from sklearn.metrics import confusion_matrix\n",
        "confusion_matrix(target_test, target_pred)"
      ],
      "execution_count": 63,
      "outputs": [
        {
          "output_type": "execute_result",
          "data": {
            "text/plain": [
              "array([[14,  0,  0],\n",
              "       [ 0, 17,  0],\n",
              "       [ 0,  0, 14]])"
            ]
          },
          "metadata": {},
          "execution_count": 63
        }
      ]
    },
    {
      "cell_type": "code",
      "metadata": {
        "colab": {
          "base_uri": "https://localhost:8080/"
        },
        "id": "iljIy79g2lo5",
        "outputId": "ed567563-77f9-4870-da27-83ec008abd82"
      },
      "source": [
        "from sklearn.metrics import precision_score\n",
        "from sklearn.metrics import recall_score\n",
        "\n",
        "precision = precision_score(target_test, target_pred, average=None)\n",
        "recall = recall_score(target_test, target_pred, average=None)\n",
        "\n",
        "print('precision: {}'.format(precision))\n",
        "print('recall: {}'.format(recall))"
      ],
      "execution_count": 64,
      "outputs": [
        {
          "output_type": "stream",
          "name": "stdout",
          "text": [
            "precision: [1. 1. 1.]\n",
            "recall: [1. 1. 1.]\n"
          ]
        }
      ]
    },
    {
      "cell_type": "code",
      "metadata": {
        "id": "FhO-mM46h0GR"
      },
      "source": [
        "#Excersize\n",
        "#Task 1: Try the algo on Dataset2 - OneHotEncoding of features: and Train test Division 75%-25%\n",
        "import numpy as np \n",
        "import pandas as pd\n",
        "from sklearn.impute import SimpleImputer \n",
        "from sklearn.preprocessing import OneHotEncoder,LabelEncoder\n",
        "from sklearn.model_selection import train_test_split\n",
        "from sklearn import metrics\n",
        "from sklearn.metrics import confusion_matrix\n",
        "from sklearn.metrics import precision_score\n",
        "from sklearn.metrics import recall_score"
      ],
      "execution_count": 65,
      "outputs": []
    },
    {
      "cell_type": "code",
      "metadata": {
        "colab": {
          "base_uri": "https://localhost:8080/"
        },
        "id": "nau4Bu5xi-kL",
        "outputId": "d11ff76f-b57f-4f0c-e695-c698e54517f1"
      },
      "source": [
        "dataset= pd.read_csv('/content/drive/MyDrive/Colab Notebooks/ML/lab3/PracticeDataSets/Dataset2.csv')\n",
        "print(\"\\n\\nData: \\n\",dataset)"
      ],
      "execution_count": 66,
      "outputs": [
        {
          "output_type": "stream",
          "name": "stdout",
          "text": [
            "\n",
            "\n",
            "Data: \n",
            "    Outlook Temp Wind Humidity Class\n",
            "0        R    H    F   Normal     N\n",
            "1        R    H    T     High     N\n",
            "2        O    H    F   Normal     Y\n",
            "3        S    M    F   Normal     N\n",
            "4        S    M    F   Normal     Y\n",
            "5        S    M    T      Low     Y\n",
            "6        O    C    T   Normal     Y\n",
            "7        R    C    F   Normal     Y\n",
            "8        R    C    F      Low     Y\n",
            "9        S    M    F     High     Y\n",
            "10       R    M    T     High     Y\n",
            "11       O    M    T      Low     Y\n",
            "12       O    H    F   Normal     Y\n",
            "13       S    M    T   Normal     N\n"
          ]
        }
      ]
    },
    {
      "cell_type": "code",
      "metadata": {
        "colab": {
          "base_uri": "https://localhost:8080/"
        },
        "id": "TO8LD7yEkdKn",
        "outputId": "118395ca-cfc1-42e1-a5aa-e521f1ed6429"
      },
      "source": [
        "data= pd.get_dummies(dataset,columns=['Outlook','Temp','Humidity','Wind','Class'])\n",
        "data= data.drop(['Class_N'],axis=1)\n",
        "print(\"One Hot Encoder:\\n\\n\",data)"
      ],
      "execution_count": 67,
      "outputs": [
        {
          "output_type": "stream",
          "name": "stdout",
          "text": [
            "One Hot Encoder:\n",
            "\n",
            "     Outlook_O  Outlook_R  Outlook_S  ...  Wind_F  Wind_T  Class_Y\n",
            "0           0          1          0  ...       1       0        0\n",
            "1           0          1          0  ...       0       1        0\n",
            "2           1          0          0  ...       1       0        1\n",
            "3           0          0          1  ...       1       0        0\n",
            "4           0          0          1  ...       1       0        1\n",
            "5           0          0          1  ...       0       1        1\n",
            "6           1          0          0  ...       0       1        1\n",
            "7           0          1          0  ...       1       0        1\n",
            "8           0          1          0  ...       1       0        1\n",
            "9           0          0          1  ...       1       0        1\n",
            "10          0          1          0  ...       0       1        1\n",
            "11          1          0          0  ...       0       1        1\n",
            "12          1          0          0  ...       1       0        1\n",
            "13          0          0          1  ...       0       1        0\n",
            "\n",
            "[14 rows x 12 columns]\n"
          ]
        }
      ]
    },
    {
      "cell_type": "code",
      "metadata": {
        "id": "zzABEhMymTd8"
      },
      "source": [
        "#train-test split data 75%-25%\n",
        "X= data.iloc[:,:-1]\n",
        "Y= data.iloc[:,-1]\n",
        "data_train, data_test, target_train, target_test = train_test_split(X, Y, test_size = 0.25, random_state = 77)"
      ],
      "execution_count": 68,
      "outputs": []
    },
    {
      "cell_type": "code",
      "metadata": {
        "id": "V0MDmVJ5mdok"
      },
      "source": [
        "model = GaussianNB()\n",
        "\n",
        "#Train the model using the training sets\n",
        "model.fit(data_train, target_train)\n",
        "\n",
        "#Predict the response for test dataset\n",
        "target_pred =model.predict(data_test)"
      ],
      "execution_count": 69,
      "outputs": []
    },
    {
      "cell_type": "code",
      "metadata": {
        "colab": {
          "base_uri": "https://localhost:8080/"
        },
        "id": "yX3KDFgZmfnb",
        "outputId": "22477535-f0d5-46a3-d48a-e9f343bdb04c"
      },
      "source": [
        "# Model Accuracy, how often is the classifier correct?\n",
        "print(\"Accuracy:\",metrics.accuracy_score(target_test, target_pred))"
      ],
      "execution_count": 70,
      "outputs": [
        {
          "output_type": "stream",
          "name": "stdout",
          "text": [
            "Accuracy: 0.75\n"
          ]
        }
      ]
    },
    {
      "cell_type": "code",
      "metadata": {
        "colab": {
          "base_uri": "https://localhost:8080/"
        },
        "id": "BbaBUqd_mh2z",
        "outputId": "8618109f-acc4-4bea-98fd-de1656bc9a07"
      },
      "source": [
        "confusion_matrix(target_test, target_pred)"
      ],
      "execution_count": 71,
      "outputs": [
        {
          "output_type": "execute_result",
          "data": {
            "text/plain": [
              "array([[1, 0],\n",
              "       [1, 2]])"
            ]
          },
          "metadata": {},
          "execution_count": 71
        }
      ]
    },
    {
      "cell_type": "code",
      "metadata": {
        "colab": {
          "base_uri": "https://localhost:8080/"
        },
        "id": "bJ8H0GKUmj0l",
        "outputId": "49a85b31-f778-48b4-c663-e08e0d0e19dd"
      },
      "source": [
        "precision = precision_score(target_test, target_pred, average=None)\n",
        "recall = recall_score(target_test, target_pred, average=None)\n",
        "print(f'precision: {precision}')\n",
        "print(f'recall: {recall}')"
      ],
      "execution_count": 72,
      "outputs": [
        {
          "output_type": "stream",
          "name": "stdout",
          "text": [
            "precision: [0.5 1. ]\n",
            "recall: [1.         0.66666667]\n"
          ]
        }
      ]
    },
    {
      "cell_type": "code",
      "metadata": {
        "colab": {
          "base_uri": "https://localhost:8080/"
        },
        "id": "0EQp4Ni5mmW9",
        "outputId": "9bbebad7-bb7f-456e-8810-198d485fb8ac"
      },
      "source": [
        "#Outlook is ’Rainy’, Temperature is ’Mild’, Humidity =’Normal’, and Wind = ’False’?\n",
        "output1= model.predict([[0,1,0,0,0,1,0,0,1,1,0]])\n",
        "print(f'Play: {output1}')\n",
        "#Outlook is ’Sunny’, Temeprature is ’Cool’, Humidity =’High’, and Wind = ’True'\n",
        "output2= model.predict([[0,0,1,1,0,0,1,0,0,0,1]])\n",
        "print(f'Play: {output2}')"
      ],
      "execution_count": 73,
      "outputs": [
        {
          "output_type": "stream",
          "name": "stdout",
          "text": [
            "Play: [0]\n",
            "Play: [1]\n"
          ]
        }
      ]
    },
    {
      "cell_type": "code",
      "metadata": {
        "id": "3Xh5KiEqm35j"
      },
      "source": [
        "#Task 2: Apply algorithm on wine dataset - LabelEncoding of features: and Train test Division 80%-20%\n",
        "from sklearn import datasets\n",
        "from sklearn.naive_bayes import GaussianNB\n",
        "wine= datasets.load_wine()"
      ],
      "execution_count": 74,
      "outputs": []
    },
    {
      "cell_type": "code",
      "metadata": {
        "colab": {
          "base_uri": "https://localhost:8080/"
        },
        "id": "Vdmf4NLcm_gd",
        "outputId": "77893f85-5ef6-4347-de49-dfcbeb0d5c8d"
      },
      "source": [
        "print(\"Features: \", wine.feature_names)\n",
        "# print the label type of wine(class_0, class_1, class_2)\n",
        "print(\"Labels: \", wine.target_names)\n",
        "# print data(feature)shape & target shape\n",
        "print(\"\\nData Shape: \",wine.data.shape)\n",
        "print(\"\\nTarget Shape:\",wine.target.shape)"
      ],
      "execution_count": 75,
      "outputs": [
        {
          "output_type": "stream",
          "name": "stdout",
          "text": [
            "Features:  ['alcohol', 'malic_acid', 'ash', 'alcalinity_of_ash', 'magnesium', 'total_phenols', 'flavanoids', 'nonflavanoid_phenols', 'proanthocyanins', 'color_intensity', 'hue', 'od280/od315_of_diluted_wines', 'proline']\n",
            "Labels:  ['class_0' 'class_1' 'class_2']\n",
            "\n",
            "Data Shape:  (178, 13)\n",
            "\n",
            "Target Shape: (178,)\n"
          ]
        }
      ]
    },
    {
      "cell_type": "code",
      "metadata": {
        "id": "zV4RtAP9nFpv"
      },
      "source": [
        "data_train, data_test, target_train, target_test = train_test_split(X, Y, test_size = 0.20, random_state = 77)"
      ],
      "execution_count": 76,
      "outputs": []
    },
    {
      "cell_type": "code",
      "metadata": {
        "id": "T3fODlOWnKGs"
      },
      "source": [
        "gnb= GaussianNB()\n",
        "model.fit(data_train, target_train)\n",
        "target_pred= model.predict(data_test)"
      ],
      "execution_count": 77,
      "outputs": []
    },
    {
      "cell_type": "code",
      "metadata": {
        "colab": {
          "base_uri": "https://localhost:8080/"
        },
        "id": "-Y5yIql6nMrb",
        "outputId": "b5c68658-f64d-4679-d4ea-cfaad5b3193a"
      },
      "source": [
        "print(\"Accuracy:\",metrics.accuracy_score(target_test, target_pred))\n",
        "confusion_matrix(target_test, target_pred)"
      ],
      "execution_count": 78,
      "outputs": [
        {
          "output_type": "stream",
          "name": "stdout",
          "text": [
            "Accuracy: 1.0\n"
          ]
        },
        {
          "output_type": "execute_result",
          "data": {
            "text/plain": [
              "array([[1, 0],\n",
              "       [0, 2]])"
            ]
          },
          "metadata": {},
          "execution_count": 78
        }
      ]
    },
    {
      "cell_type": "code",
      "metadata": {
        "colab": {
          "base_uri": "https://localhost:8080/"
        },
        "id": "GojplReHnPFk",
        "outputId": "2cc6b8d1-642e-479f-ebda-6aa469ecc00f"
      },
      "source": [
        "precision = precision_score(target_test, target_pred, average=None)\n",
        "recall = recall_score(target_test, target_pred, average=None)\n",
        "\n",
        "print(f'precision: {precision}')\n",
        "print(f'recall: {recall}')"
      ],
      "execution_count": 79,
      "outputs": [
        {
          "output_type": "stream",
          "name": "stdout",
          "text": [
            "precision: [1. 1.]\n",
            "recall: [1. 1.]\n"
          ]
        }
      ]
    }
  ]
}