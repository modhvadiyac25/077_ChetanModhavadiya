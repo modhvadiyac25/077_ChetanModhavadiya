{
 "cells": [
  {
   "cell_type": "markdown",
   "source": [
    "Lab Assignment:\r\n",
    "Replace Manual version of Logistic Regression with TF based version."
   ],
   "metadata": {}
  },
  {
   "cell_type": "code",
   "execution_count": 1,
   "source": [
    "#import functions \r\n",
    "import nltk\r\n",
    "from nltk.corpus import twitter_samples\r\n",
    "import pandas as pd"
   ],
   "outputs": [],
   "metadata": {}
  }
 ],
 "metadata": {
  "orig_nbformat": 4,
  "language_info": {
   "name": "python",
   "version": "3.9.6",
   "mimetype": "text/x-python",
   "codemirror_mode": {
    "name": "ipython",
    "version": 3
   },
   "pygments_lexer": "ipython3",
   "nbconvert_exporter": "python",
   "file_extension": ".py"
  },
  "kernelspec": {
   "name": "python3",
   "display_name": "Python 3.9.6 64-bit"
  },
  "interpreter": {
   "hash": "5f4b9d12ed728b25f05c8cb5ceec3f871e1ec72ac6123663f18e16fe885afa29"
  }
 },
 "nbformat": 4,
 "nbformat_minor": 2
}