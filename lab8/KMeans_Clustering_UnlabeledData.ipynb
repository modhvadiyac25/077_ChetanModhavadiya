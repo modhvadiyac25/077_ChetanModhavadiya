{
  "nbformat": 4,
  "nbformat_minor": 2,
  "metadata": {
    "colab": {
      "name": "KMeans_Clustering_UnlabeledData.ipynb",
      "provenance": []
    },
    "kernelspec": {
      "name": "python3",
      "display_name": "Python 3.9.6 64-bit"
    },
    "language_info": {
      "name": "python",
      "version": "3.9.6"
    },
    "interpreter": {
      "hash": "5f4b9d12ed728b25f05c8cb5ceec3f871e1ec72ac6123663f18e16fe885afa29"
    }
  },
  "cells": [
    {
      "cell_type": "code",
      "execution_count": 15,
      "source": [
        "# Imports\r\n",
        "from sklearn.datasets.samples_generator import make_blobs\r\n",
        "X, _ = make_blobs(n_samples=100, centers=3, n_features=2,\r\n",
        "cluster_std=0.2, random_state=77)\r\n"
      ],
      "outputs": [],
      "metadata": {
        "id": "SRBIqNfYq7uw"
      }
    },
    {
      "cell_type": "code",
      "execution_count": 16,
      "source": [
        "# Scatter plot of the data point\r\n",
        "import matplotlib.pyplot as plt\r\n",
        "%matplotlib inline\r\n",
        "plt.scatter(X[:, 0], X[:, -1])\r\n",
        "plt.xlabel('X Coordinates')\r\n",
        "plt.ylabel('Y Coordinates')\r\n",
        "plt.show()"
      ],
      "outputs": [
        {
          "output_type": "display_data",
          "data": {
            "image/png": "[encoded data removed]",
            "text/plain": [
              "<Figure size 432x288 with 1 Axes>"
            ]
          },
          "metadata": {
            "needs_background": "light"
          }
        }
      ],
      "metadata": {
        "colab": {
          "base_uri": "https://localhost:8080/",
          "height": 279
        },
        "id": "xc4PBFpbrFJ1",
        "outputId": "4c353159-5c56-420a-bf24-c0170f8da410"
      }
    },
    {
      "cell_type": "code",
      "execution_count": 17,
      "source": [
        "# Using scikit-learn to perform K-Means clustering\r\n",
        "from sklearn.cluster import KMeans\r\n",
        "# Specify the number of clusters (3) and fit the data X\r\n",
        "kmeans = KMeans(n_clusters=3, random_state=77).fit(X)"
      ],
      "outputs": [],
      "metadata": {
        "id": "wRqYsbM1rHYc"
      }
    },
    {
      "cell_type": "code",
      "execution_count": 18,
      "source": [
        "# Get the cluster centroids\r\n",
        "kmeans.cluster_centers_"
      ],
      "outputs": [
        {
          "output_type": "execute_result",
          "data": {
            "text/plain": [
              "array([[ 8.34060855,  2.84582345],\n",
              "       [-8.26770418,  5.76453627],\n",
              "       [ 5.08665348, -7.21392688]])"
            ]
          },
          "metadata": {},
          "execution_count": 18
        }
      ],
      "metadata": {
        "colab": {
          "base_uri": "https://localhost:8080/"
        },
        "id": "MWcBLLYkrJzV",
        "outputId": "1a494e27-c62b-4af6-f44c-88f6951e9883"
      }
    },
    {
      "cell_type": "code",
      "execution_count": 19,
      "source": [
        "# Get the cluster labels\r\n",
        "kmeans.labels_"
      ],
      "outputs": [
        {
          "output_type": "execute_result",
          "data": {
            "text/plain": [
              "array([0, 1, 0, 2, 2, 1, 2, 2, 0, 2, 2, 1, 1, 1, 0, 2, 0, 0, 0, 2, 0, 2,\n",
              "       2, 1, 0, 1, 1, 2, 0, 1, 2, 2, 1, 1, 0, 0, 2, 2, 2, 0, 1, 0, 0, 1,\n",
              "       1, 1, 0, 1, 2, 2, 1, 2, 2, 1, 1, 0, 1, 0, 0, 1, 1, 1, 0, 1, 1, 1,\n",
              "       2, 0, 1, 0, 1, 0, 0, 2, 0, 0, 2, 0, 1, 0, 0, 1, 2, 2, 0, 2, 0, 2,\n",
              "       0, 1, 1, 0, 0, 2, 2, 2, 2, 2, 2, 1], dtype=int32)"
            ]
          },
          "metadata": {},
          "execution_count": 19
        }
      ],
      "metadata": {
        "colab": {
          "base_uri": "https://localhost:8080/"
        },
        "id": "-zbIY8kHrPHk",
        "outputId": "5f0184ea-b14e-40cf-903c-8569d6f8c017"
      }
    },
    {
      "cell_type": "code",
      "execution_count": 20,
      "source": [
        "# Plotting the cluster centers and the data points on a 2D plane\n",
        "plt.scatter(X[:, 0], X[:, -1])\n",
        "plt.scatter(kmeans.cluster_centers_[:, 0], kmeans.cluster_centers_[:, 1],c='red', marker='x')\n",
        "plt.title('Data points and cluster centroids')\n",
        "plt.show()\n"
      ],
      "outputs": [
        {
          "output_type": "display_data",
          "data": {
            "image/png": "[encoded data removed]",
            "text/plain": [
              "<Figure size 432x288 with 1 Axes>"
            ]
          },
          "metadata": {
            "needs_background": "light"
          }
        }
      ],
      "metadata": {
        "colab": {
          "base_uri": "https://localhost:8080/",
          "height": 280
        },
        "id": "C4S7f9XjrR_g",
        "outputId": "7cf15c5b-794d-4bb3-80fe-cf55b1a558ec"
      }
    },
    {
      "cell_type": "code",
      "execution_count": 21,
      "source": [
        "# Calculate silhouette_score\n",
        "from sklearn.metrics import silhouette_score\n",
        "print(silhouette_score(X, kmeans.labels_))"
      ],
      "outputs": [
        {
          "output_type": "stream",
          "name": "stdout",
          "text": [
            "0.9709096462889204\n"
          ]
        }
      ],
      "metadata": {
        "colab": {
          "base_uri": "https://localhost:8080/"
        },
        "id": "xm68WWHorUYV",
        "outputId": "0ae83a02-a4a0-44ee-bbdf-f786bcff467a"
      }
    },
    {
      "cell_type": "code",
      "execution_count": 22,
      "source": [
        "# Calculate silhouette_score\n",
        "from sklearn.metrics import silhouette_score\n",
        "print(silhouette_score(X, kmeans.labels_))"
      ],
      "outputs": [
        {
          "output_type": "stream",
          "name": "stdout",
          "text": [
            "0.9709096462889204\n"
          ]
        }
      ],
      "metadata": {
        "colab": {
          "base_uri": "https://localhost:8080/"
        },
        "id": "CQxHBG3dru-F",
        "outputId": "5e3b021e-5366-4846-8118-4da13f9ec465"
      }
    },
    {
      "cell_type": "code",
      "execution_count": 23,
      "source": [
        "# Import the KElbowVisualizer method\n",
        "from yellowbrick.cluster import KElbowVisualizer\n",
        "# Instantiate a scikit-learn K-Means model\n",
        "model = KMeans(random_state=0)\n",
        "# Instantiate the KElbowVisualizer with the number of clusters and the metric\n",
        "visualizer = KElbowVisualizer(model, k=(2,6), metric='silhouette',timings=False)\n",
        "# Fit the data and visualize\n",
        "visualizer.fit(X)\n",
        "visualizer.poof()\n"
      ],
      "outputs": [
        {
          "output_type": "display_data",
          "data": {
            "image/png": "[encoded data removed]",
            "text/plain": [
              "<Figure size 432x288 with 1 Axes>"
            ]
          },
          "metadata": {
            "needs_background": "light"
          }
        }
      ],
      "metadata": {
        "colab": {
          "base_uri": "https://localhost:8080/",
          "height": 294
        },
        "id": "6iTBPN3GrxQk",
        "outputId": "c1f9c1df-b016-4eeb-da24-d4eaaed1ab82"
      }
    }
  ]
}